{
 "cells": [
  {
   "cell_type": "markdown",
   "metadata": {},
   "source": [
    "README: <br>\n",
    "idea: graph-based --> compute cosine similarity for each node (each node represent a user review)\n",
    "\n",
    "reference: <br>\n",
    "- https://scikit-learn.org/stable/modules/generated/sklearn.semi_supervised.LabelSpreading.html#sklearn.semi_supervised.LabelSpreading <br>\n",
    "- https://scikit-learn.org/stable/modules/label_propagation.html\n",
    "- https://scikit-learn.org/stable/auto_examples/semi_supervised/plot_label_propagation_digits.html (usage examples)"
   ]
  },
  {
   "cell_type": "code",
   "execution_count": 1,
   "metadata": {},
   "outputs": [],
   "source": [
    "# TODO: semi-supervised learning\n",
    "# build basic semi-supervised learning pipeline"
   ]
  },
  {
   "cell_type": "code",
   "execution_count": 1,
   "metadata": {},
   "outputs": [],
   "source": [
    "import pandas as pd\n",
    "import os\n",
    "os.chdir('/Users/liyuan/desktop/CSAir/codes')\n",
    "from sklearn.model_selection import train_test_split\n",
    "from sklearn.feature_extraction.text import CountVectorizer, TfidfTransformer\n",
    "import time\n",
    "import json\n",
    "\n",
    "import numpy as np\n",
    "import matplotlib.pyplot as plt\n",
    "from scipy import stats\n",
    "from sklearn.semi_supervised import label_propagation\n",
    "from sklearn.metrics import confusion_matrix, classification_report\n",
    "\n",
    "from semi_supervise import Semi_Supervise"
   ]
  },
  {
   "cell_type": "code",
   "execution_count": 5,
   "metadata": {},
   "outputs": [
    {
     "name": "stdout",
     "output_type": "stream",
     "text": [
      "there are 1700 examples in labeled dataset\n"
     ]
    },
    {
     "data": {
      "text/html": [
       "<div>\n",
       "<style scoped>\n",
       "    .dataframe tbody tr th:only-of-type {\n",
       "        vertical-align: middle;\n",
       "    }\n",
       "\n",
       "    .dataframe tbody tr th {\n",
       "        vertical-align: top;\n",
       "    }\n",
       "\n",
       "    .dataframe thead th {\n",
       "        text-align: right;\n",
       "    }\n",
       "</style>\n",
       "<table border=\"1\" class=\"dataframe\">\n",
       "  <thead>\n",
       "    <tr style=\"text-align: right;\">\n",
       "      <th></th>\n",
       "      <th>review_tokens</th>\n",
       "      <th>label_encoded</th>\n",
       "    </tr>\n",
       "  </thead>\n",
       "  <tbody>\n",
       "    <tr>\n",
       "      <th>0</th>\n",
       "      <td>优惠券</td>\n",
       "      <td>9.0</td>\n",
       "    </tr>\n",
       "    <tr>\n",
       "      <th>1</th>\n",
       "      <td>优惠券</td>\n",
       "      <td>9.0</td>\n",
       "    </tr>\n",
       "    <tr>\n",
       "      <th>2</th>\n",
       "      <td>买票 提醒 优惠券</td>\n",
       "      <td>9.0</td>\n",
       "    </tr>\n",
       "    <tr>\n",
       "      <th>3</th>\n",
       "      <td>专享 优惠 入口 机票 预订 选择 添加 请问 情况</td>\n",
       "      <td>9.0</td>\n",
       "    </tr>\n",
       "    <tr>\n",
       "      <th>4</th>\n",
       "      <td>参加 月份 会员 日 活动 抽 中国 往返机票 免票 客服 答复 说 月 日 发放 优惠券 ...</td>\n",
       "      <td>9.0</td>\n",
       "    </tr>\n",
       "  </tbody>\n",
       "</table>\n",
       "</div>"
      ],
      "text/plain": [
       "                                       review_tokens  label_encoded\n",
       "0                                                优惠券            9.0\n",
       "1                                                优惠券            9.0\n",
       "2                                          买票 提醒 优惠券            9.0\n",
       "3                         专享 优惠 入口 机票 预订 选择 添加 请问 情况            9.0\n",
       "4  参加 月份 会员 日 活动 抽 中国 往返机票 免票 客服 答复 说 月 日 发放 优惠券 ...            9.0"
      ]
     },
     "execution_count": 5,
     "metadata": {},
     "output_type": "execute_result"
    }
   ],
   "source": [
    "ss = Semi_Supervise()\n",
    "labeled_data = ss.load_labeled_data('../res/all_labeled_data.csv')\n",
    "# labeled_data = ss.load_labeled_data('../res/labeled_data_with_without_tk.csv')\n",
    "unlabeled_data = ss.load_unlabeled_data('../res/tokenized_sampled_unlabeled_reviews.txt')\n",
    "data_concat = ss.concat_data()\n",
    "data_concat.head()"
   ]
  },
  {
   "cell_type": "code",
   "execution_count": 6,
   "metadata": {},
   "outputs": [
    {
     "name": "stdout",
     "output_type": "stream",
     "text": [
      "[1700 1701 1702 ... 6462 6463 6464]\n",
      "y_train: [ 9.  9.  9. ... -1. -1. -1.]\n",
      "true labels:  [nan nan nan ... nan nan nan]\n",
      "predicted labels: [9. 1. 5. ... 3. 3. 3.]\n",
      "--- 613.6748068332672 seconds ---\n"
     ]
    },
    {
     "name": "stderr",
     "output_type": "stream",
     "text": [
      "/anaconda3/envs/nlp/lib/python3.6/site-packages/sklearn/semi_supervised/label_propagation.py:297: RuntimeWarning: divide by zero encountered in true_divide\n",
      "  self.label_distributions_ /= normalizer\n",
      "/anaconda3/envs/nlp/lib/python3.6/site-packages/sklearn/semi_supervised/label_propagation.py:297: RuntimeWarning: invalid value encountered in true_divide\n",
      "  self.label_distributions_ /= normalizer\n"
     ]
    }
   ],
   "source": [
    "start_time = time.time()\n",
    "ss.get_X()\n",
    "predicted_labels = ss.label_propagation()\n",
    "print(\"--- %s seconds ---\" % (time.time() - start_time))"
   ]
  },
  {
   "cell_type": "code",
   "execution_count": 37,
   "metadata": {},
   "outputs": [],
   "source": [
    "# match predicted labels to reviews\n",
    "# unlabeled_data = ss.match_reviews_to_pred_labels('../res/labels_encoded_dict.txt')\n",
    "# unlabeled_data.head()"
   ]
  },
  {
   "cell_type": "code",
   "execution_count": 36,
   "metadata": {},
   "outputs": [
    {
     "name": "stdout",
     "output_type": "stream",
     "text": [
      "{'预订': 9, '出发': 1, '设计': 8, '性能': 4, '到达': 2, '行程': 6, '机上': 5, '计划': 7, '中转': 0, '售后': 3}\n"
     ]
    },
    {
     "data": {
      "text/html": [
       "<div>\n",
       "<style scoped>\n",
       "    .dataframe tbody tr th:only-of-type {\n",
       "        vertical-align: middle;\n",
       "    }\n",
       "\n",
       "    .dataframe tbody tr th {\n",
       "        vertical-align: top;\n",
       "    }\n",
       "\n",
       "    .dataframe thead th {\n",
       "        text-align: right;\n",
       "    }\n",
       "</style>\n",
       "<table border=\"1\" class=\"dataframe\">\n",
       "  <thead>\n",
       "    <tr style=\"text-align: right;\">\n",
       "      <th></th>\n",
       "      <th>review_tokens</th>\n",
       "      <th>label_encoded</th>\n",
       "      <th>predicted_labels</th>\n",
       "      <th>predicted_class</th>\n",
       "    </tr>\n",
       "  </thead>\n",
       "  <tbody>\n",
       "    <tr>\n",
       "      <th>0</th>\n",
       "      <td>机票 报销 凭证 没收\\n</td>\n",
       "      <td>NaN</td>\n",
       "      <td>9.0</td>\n",
       "      <td>预订</td>\n",
       "    </tr>\n",
       "    <tr>\n",
       "      <th>1</th>\n",
       "      <td>南航 月 日 航班 取消 成行 取消 订单\\n</td>\n",
       "      <td>NaN</td>\n",
       "      <td>1.0</td>\n",
       "      <td>出发</td>\n",
       "    </tr>\n",
       "    <tr>\n",
       "      <th>2</th>\n",
       "      <td>服务 位置 舒服\\n</td>\n",
       "      <td>NaN</td>\n",
       "      <td>5.0</td>\n",
       "      <td>机上</td>\n",
       "    </tr>\n",
       "    <tr>\n",
       "      <th>3</th>\n",
       "      <td>原坐 航班号 日 时间 起飞 上海 沈阳 更换 时间 三次 最终 延误 日 起飞 太 不靠 ...</td>\n",
       "      <td>NaN</td>\n",
       "      <td>3.0</td>\n",
       "      <td>售后</td>\n",
       "    </tr>\n",
       "    <tr>\n",
       "      <th>4</th>\n",
       "      <td>明珠 卡 密码 记不住\\n</td>\n",
       "      <td>NaN</td>\n",
       "      <td>3.0</td>\n",
       "      <td>售后</td>\n",
       "    </tr>\n",
       "    <tr>\n",
       "      <th>5</th>\n",
       "      <td>月 号 买 南航 航班 上海 虹桥 广州 沒有 里程\\n</td>\n",
       "      <td>NaN</td>\n",
       "      <td>4.0</td>\n",
       "      <td>性能</td>\n",
       "    </tr>\n",
       "    <tr>\n",
       "      <th>6</th>\n",
       "      <td>我要 退票 打电话 没人接 玩意\\n</td>\n",
       "      <td>NaN</td>\n",
       "      <td>6.0</td>\n",
       "      <td>行程</td>\n",
       "    </tr>\n",
       "    <tr>\n",
       "      <th>7</th>\n",
       "      <td>出行 原因 改为 泰国 菲律宾 票 退 显示 审核 打款\\n</td>\n",
       "      <td>NaN</td>\n",
       "      <td>3.0</td>\n",
       "      <td>售后</td>\n",
       "    </tr>\n",
       "    <tr>\n",
       "      <th>8</th>\n",
       "      <td>全程 小时 边上 两个 人用 全 飞机 听 声音 讲 小时 全程 空乘 人员 提醒 真的 很...</td>\n",
       "      <td>NaN</td>\n",
       "      <td>3.0</td>\n",
       "      <td>售后</td>\n",
       "    </tr>\n",
       "    <tr>\n",
       "      <th>9</th>\n",
       "      <td>超级 慢 页面 显示\\n</td>\n",
       "      <td>NaN</td>\n",
       "      <td>0.0</td>\n",
       "      <td>中转</td>\n",
       "    </tr>\n",
       "  </tbody>\n",
       "</table>\n",
       "</div>"
      ],
      "text/plain": [
       "                                       review_tokens  label_encoded  \\\n",
       "0                                      机票 报销 凭证 没收\\n            NaN   \n",
       "1                            南航 月 日 航班 取消 成行 取消 订单\\n            NaN   \n",
       "2                                         服务 位置 舒服\\n            NaN   \n",
       "3  原坐 航班号 日 时间 起飞 上海 沈阳 更换 时间 三次 最终 延误 日 起飞 太 不靠 ...            NaN   \n",
       "4                                      明珠 卡 密码 记不住\\n            NaN   \n",
       "5                       月 号 买 南航 航班 上海 虹桥 广州 沒有 里程\\n            NaN   \n",
       "6                                 我要 退票 打电话 没人接 玩意\\n            NaN   \n",
       "7                     出行 原因 改为 泰国 菲律宾 票 退 显示 审核 打款\\n            NaN   \n",
       "8  全程 小时 边上 两个 人用 全 飞机 听 声音 讲 小时 全程 空乘 人员 提醒 真的 很...            NaN   \n",
       "9                                       超级 慢 页面 显示\\n            NaN   \n",
       "\n",
       "   predicted_labels predicted_class  \n",
       "0               9.0              预订  \n",
       "1               1.0              出发  \n",
       "2               5.0              机上  \n",
       "3               3.0              售后  \n",
       "4               3.0              售后  \n",
       "5               4.0              性能  \n",
       "6               6.0              行程  \n",
       "7               3.0              售后  \n",
       "8               3.0              售后  \n",
       "9               0.0              中转  "
      ]
     },
     "execution_count": 36,
     "metadata": {},
     "output_type": "execute_result"
    }
   ],
   "source": [
    "# match predicted labels to reviews\n",
    "unlabeled_data['predicted_labels'] = predicted_labels\n",
    "with open('../res/labels_encoded_dict.txt','r') as f:\n",
    "    labels_encoded_dict = json.load(f)\n",
    "    print(labels_encoded_dict)\n",
    "    \n",
    "def get_class(row):\n",
    "    for k in list(labels_encoded_dict.keys()):\n",
    "        if labels_encoded_dict[k] == row:\n",
    "            return k\n",
    "    \n",
    "unlabeled_data['predicted_class'] = unlabeled_data['predicted_labels'].apply(get_class)\n",
    "unlabeled_data.head(10)"
   ]
  },
  {
   "cell_type": "code",
   "execution_count": null,
   "metadata": {},
   "outputs": [],
   "source": [
    "# TODO: match original reviews to predicted labels"
   ]
  }
 ],
 "metadata": {
  "kernelspec": {
   "display_name": "Python 3",
   "language": "python",
   "name": "python3"
  },
  "language_info": {
   "codemirror_mode": {
    "name": "ipython",
    "version": 3
   },
   "file_extension": ".py",
   "mimetype": "text/x-python",
   "name": "python",
   "nbconvert_exporter": "python",
   "pygments_lexer": "ipython3",
   "version": "3.6.7"
  }
 },
 "nbformat": 4,
 "nbformat_minor": 2
}
