{
 "cells": [
  {
   "cell_type": "markdown",
   "metadata": {},
   "source": [
    "readme: scripts below used to preporcess raw data, including:\n",
    "- tokenize files from each class, including remove non-Chinese characters, stopwords, digits, and punctuations.\n",
    "- concatenate all tokenized data from multiple classes into one single file; added a new column of 'label_encoded', which convert categorical variables into numbers    \n",
    "- output the final result to a csv file"
   ]
  },
  {
   "cell_type": "code",
   "execution_count": 8,
   "metadata": {},
   "outputs": [
    {
     "name": "stdout",
     "output_type": "stream",
     "text": [
      "the whole dataset include 1700 reviews\n",
      "                                       review_tokens label  label_encoded\n",
      "0                                                优惠券    预订              9\n",
      "1                                                优惠券    预订              9\n",
      "2                                          买票 提醒 优惠券    预订              9\n",
      "3                         专享 优惠 入口 机票 预订 选择 添加 请问 情况    预订              9\n",
      "4  参加 月份 会员 日 活动 抽 中国 往返机票 免票 客服 答复 说 月 日 发放 优惠券 ...    预订              9\n"
     ]
    }
   ],
   "source": [
    "import pandas as pd\n",
    "import os\n",
    "import glob\n",
    "import warnings\n",
    "warnings.filterwarnings('ignore')\n",
    "os.chdir('/Users/liyuan/desktop/CSAir/codes')\n",
    "\n",
    "from tokenization import Tokenization\n",
    "\n",
    "stopwords = [line.strip() for line in open('../Source_Data/stopwords.txt', 'r', encoding='utf-8').readlines()]   \n",
    "categories = ['中转','出发','到达','售后','性能','机上','行程管理','计划','设计','预订']\n",
    "for cat in categories:\n",
    "    # tokenize data for each class\n",
    "    tok = Tokenization('../Source_Data/CSV_files/'+ cat +'.csv','../Output_Data/output_v3/'+cat,stopwords)\n",
    "    input_data = tok.load_input_data()\n",
    "    sampled_reviews_tokenized = tok.get_tokenized_sents()\n",
    "\n",
    "# combine \"output\" data files and add encoded label as new column\n",
    "files= glob.glob('../Output_Data/output_v3/*.txt')\n",
    "df_lst = []\n",
    "for f in files:\n",
    "    label = f.split('/')[-1][:2]\n",
    "    df = pd.read_csv(f,header=None)\n",
    "    df['label'] = label\n",
    "    df_lst.append(df)\n",
    "labeled_df = pd.concat(df_lst)\n",
    "print('the whole dataset include %d reviews'%len(labeled_df))\n",
    "labeled_df = labeled_df.rename(columns = {0:'review_tokens'})\n",
    "\n",
    "# encode text label into numbers\n",
    "from sklearn import preprocessing\n",
    "le = preprocessing.LabelEncoder()\n",
    "targets = le.fit_transform(labeled_df.label)\n",
    "labeled_df['label_encoded'] = targets\n",
    "\n",
    "# output concatenated labeled data to csv file\n",
    "labeled_df.to_csv('../res/all_labeled_data_v3.csv', index = False)\n",
    "print(labeled_df.head())"
   ]
  },
  {
   "cell_type": "code",
   "execution_count": 9,
   "metadata": {},
   "outputs": [
    {
     "name": "stdout",
     "output_type": "stream",
     "text": [
      "{'预订': 222, '出发': 367, '设计': 50, '性能': 153, '到达': 151, '行程': 61, '机上': 308, '计划': 39, '中转': 149, '售后': 200}\n"
     ]
    }
   ],
   "source": [
    "labels = labeled_df.label.unique().tolist()\n",
    "label_size = {}\n",
    "for label in labels:\n",
    "    label_size[label] = len(labeled_df[labeled_df.label == label])\n",
    "print(label_size)"
   ]
  },
  {
   "cell_type": "code",
   "execution_count": 15,
   "metadata": {},
   "outputs": [
    {
     "data": {
      "text/plain": [
       "<matplotlib.axes._subplots.AxesSubplot at 0x1a2619fd68>"
      ]
     },
     "execution_count": 15,
     "metadata": {},
     "output_type": "execute_result"
    },
    {
     "data": {
      "image/png": "[encoded data removed]",
      "text/plain": [
       "<Figure size 432x288 with 1 Axes>"
      ]
     },
     "metadata": {
      "needs_background": "light"
     },
     "output_type": "display_data"
    }
   ],
   "source": [
    "# plot to see distribution\n",
    "import matplotlib.pyplot as plt\n",
    "import seaborn as sns\n",
    "sns.barplot(x= list(label_size.keys()), y= list(label_size.values()))"
   ]
  },
  {
   "cell_type": "code",
   "execution_count": null,
   "metadata": {},
   "outputs": [],
   "source": []
  }
 ],
 "metadata": {
  "kernelspec": {
   "display_name": "Python 3",
   "language": "python",
   "name": "python3"
  },
  "language_info": {
   "codemirror_mode": {
    "name": "ipython",
    "version": 3
   },
   "file_extension": ".py",
   "mimetype": "text/x-python",
   "name": "python",
   "nbconvert_exporter": "python",
   "pygments_lexer": "ipython3",
   "version": "3.6.7"
  }
 },
 "nbformat": 4,
 "nbformat_minor": 2
}
