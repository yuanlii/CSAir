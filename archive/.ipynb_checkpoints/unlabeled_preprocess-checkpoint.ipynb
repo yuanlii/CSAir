{
 "cells": [
  {
   "cell_type": "markdown",
   "metadata": {},
   "source": [
    "# Text Processing"
   ]
  },
  {
   "cell_type": "code",
   "execution_count": 1,
   "metadata": {},
   "outputs": [],
   "source": [
    "import pandas as pd\n",
    "import os\n",
    "\n",
    "import warnings\n",
    "warnings.filterwarnings('ignore')\n",
    "\n",
    "import jieba\n",
    "import jieba.posseg as pseg\n",
    "import jieba.analyse\n",
    "\n",
    "import glob\n",
    "\n",
    "from sklearn.feature_extraction.text import CountVectorizer\n",
    "from sklearn.feature_extraction.text import TfidfTransformer\n",
    "from sklearn.pipeline import Pipeline\n",
    "\n",
    "from sklearn.svm import SVC\n",
    "from sklearn.linear_model import SGDClassifier\n",
    "from sklearn.naive_bayes import MultinomialNB\n",
    "from sklearn.linear_model import LogisticRegression\n",
    "from sklearn.metrics import accuracy_score\n",
    "\n",
    "os.chdir('/Users/liyuan/desktop/CSAir')"
   ]
  },
  {
   "cell_type": "code",
   "execution_count": 66,
   "metadata": {},
   "outputs": [
    {
     "ename": "SyntaxError",
     "evalue": "invalid character in identifier (<ipython-input-66-6ab5df2ed6b7>, line 13)",
     "output_type": "error",
     "traceback": [
      "\u001b[0;36m  File \u001b[0;32m\"<ipython-input-66-6ab5df2ed6b7>\"\u001b[0;36m, line \u001b[0;32m13\u001b[0m\n\u001b[0;31m    tokenized_sent = re.sub(r’\\d+’,’’,content)\u001b[0m\n\u001b[0m                             ^\u001b[0m\n\u001b[0;31mSyntaxError\u001b[0m\u001b[0;31m:\u001b[0m invalid character in identifier\n"
     ]
    }
   ],
   "source": [
    "class Tokenization():\n",
    "    def __init__(self, input_data, output_path, stopwords):\n",
    "        self.input = input_data[:]\n",
    "        self.output = str(output_path)\n",
    "        self.sentences = []\n",
    "        self.tfidf_score = []\n",
    "        self.stopwords = stopwords\n",
    "    \n",
    "    def get_tokenized_sents(self):        \n",
    "        for sent in self.input:\n",
    "            tokenized_sent = ' '.join(word for word in jieba.cut(sent.strip()) if word not in self.stopwords)\n",
    "            # remove digits\n",
    "            tokenized_sent = re.sub(r'\\d+','',content)\n",
    "            # TODO：remove punctuation\n",
    "            tokenized_sent = re.sub(r'[^\\w\\s]'','', toekenized_sent)\n",
    "            # TODO：remove non-chinese characters\n",
    "            \n",
    "            self.sentences.append(tokenized_sent)\n",
    "        return self.sentences\n",
    "    \n",
    "    def get_topN_tf_idf(self, content, topK=20):\n",
    "        tags = jieba.analyse.extract_tags(content, topK)\n",
    "        return \" \".join(tags)\n"
   ]
  },
  {
   "cell_type": "code",
   "execution_count": 49,
   "metadata": {},
   "outputs": [
    {
     "name": "stdout",
     "output_type": "stream",
     "text": [
      "8233\n"
     ]
    }
   ],
   "source": [
    "import codecs\n",
    "# load data: 2018年季度APP反馈数据分析/反馈数据2018年6-7-8月数据\n",
    "F = codecs.open('Source_Data/第二批data/2018年季度APP反馈数据分析/反馈数据2018年6-7-8月数据.csv','r','utf-8')\n",
    "input_data =F.readlines()[2:]\n",
    "F.close()\n",
    "\n",
    "# get list of reviews\n",
    "fk_review_list_678 = []\n",
    "for i in range(len(input_data)):\n",
    "    try:\n",
    "        review = input_data[i].split(',')[9]\n",
    "        fk_review_list_678.append(review)\n",
    "    except:\n",
    "        continue\n",
    "\n",
    "print(len(fk_review_list_678))"
   ]
  },
  {
   "cell_type": "code",
   "execution_count": 54,
   "metadata": {},
   "outputs": [
    {
     "name": "stdout",
     "output_type": "stream",
     "text": [
      "8776\n"
     ]
    }
   ],
   "source": [
    "# load data: 2018年季度APP反馈数据分析/反馈数据3-5月原始数据.csv\n",
    "F = codecs.open('Source_Data/第二批data/2018年季度APP反馈数据分析/反馈数据3-5月原始数据.csv','r','utf-8')\n",
    "input_data =F.readlines()[1:]\n",
    "F.close()\n",
    "\n",
    "# get list of reviews\n",
    "fk_review_list_345 = []\n",
    "for i in range(len(input_data)):\n",
    "    try:\n",
    "        review = input_data[i].split(',')[7]\n",
    "        fk_review_list_345.append(review)\n",
    "    except:\n",
    "        continue\n",
    "\n",
    "print(len(fk_review_list_345))"
   ]
  },
  {
   "cell_type": "code",
   "execution_count": 59,
   "metadata": {},
   "outputs": [
    {
     "name": "stdout",
     "output_type": "stream",
     "text": [
      "7224\n"
     ]
    }
   ],
   "source": [
    "# load data: 2018年季度APP反馈数据分析/反馈数据3-5月原始数据.csv\n",
    "F = codecs.open('Source_Data/第二批data/2018年季度APP反馈数据分析/反馈数据9-10-11.csv','r','utf-8')\n",
    "input_data =F.readlines()[2:]\n",
    "F.close()\n",
    "\n",
    "# get list of reviews\n",
    "fk_review_list_91011 = []\n",
    "for i in range(len(input_data)):\n",
    "    try:\n",
    "        review = input_data[i].split(',')[12]\n",
    "        fk_review_list_91011.append(review)\n",
    "    except:\n",
    "        continue\n",
    "\n",
    "print(len(fk_review_list_91011))"
   ]
  },
  {
   "cell_type": "code",
   "execution_count": 65,
   "metadata": {},
   "outputs": [
    {
     "name": "stdout",
     "output_type": "stream",
     "text": [
      "反馈数据 in total has 24233 reviews\n",
      "反馈数据举3例： ['今天的CZ3539航班的毛毯质量很差，下来发现裤子上掉落很多毛。', '最近经常出现提前很久打电话预留前排靠过道位置，到机场就没有，一直道歉，作为高端客户，感觉很不好。', '最近航班服务经常出问题，提前很久打电话预留前排靠过道位置，到机场就没有物流，作为高端客户，对这样的服务很不满意。']\n"
     ]
    }
   ],
   "source": [
    "# concat unlabeled reviews into one file\n",
    "fk_reviews = []\n",
    "fk_reviews += fk_review_list_345\n",
    "fk_reviews += fk_review_list_678\n",
    "fk_reviews += fk_review_list_91011\n",
    "print('反馈数据 in total has %d reviews'% len(fk_reviews))\n",
    "print('反馈数据举3例：', fk_reviews[:3])"
   ]
  },
  {
   "cell_type": "code",
   "execution_count": null,
   "metadata": {},
   "outputs": [],
   "source": []
  },
  {
   "cell_type": "code",
   "execution_count": null,
   "metadata": {},
   "outputs": [],
   "source": []
  }
 ],
 "metadata": {
  "kernelspec": {
   "display_name": "Python 3",
   "language": "python",
   "name": "python3"
  },
  "language_info": {
   "codemirror_mode": {
    "name": "ipython",
    "version": 3
   },
   "file_extension": ".py",
   "mimetype": "text/x-python",
   "name": "python",
   "nbconvert_exporter": "python",
   "pygments_lexer": "ipython3",
   "version": "3.6.7"
  }
 },
 "nbformat": 4,
 "nbformat_minor": 2
}
