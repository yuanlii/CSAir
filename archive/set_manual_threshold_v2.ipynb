{
 "cells": [
  {
   "cell_type": "markdown",
   "metadata": {},
   "source": [
    "README: The scripts below used to build the basic pipeline of classification modeling. <br>\n",
    "- manually setting threshold based on probability of each class predicted by different modeling methods, e.g., LogisticRegression(), MultiNomial(),etc.\n",
    "- reformatted based on basic_pipeline_setup_v5.ipynb\n",
    "- combined in usage with modeling_main.py"
   ]
  },
  {
   "cell_type": "code",
   "execution_count": 1,
   "metadata": {},
   "outputs": [
    {
     "name": "stderr",
     "output_type": "stream",
     "text": [
      "Using TensorFlow backend.\n"
     ]
    }
   ],
   "source": [
    "import pandas as pd\n",
    "import os\n",
    "os.chdir('/Users/liyuan/desktop/CSAir/codes')\n",
    "import numpy as np\n",
    "from collections import defaultdict\n",
    "import warnings\n",
    "warnings.filterwarnings('ignore')\n",
    "import matplotlib.pyplot as plt\n",
    "\n",
    "from sklearn.naive_bayes import MultinomialNB  \n",
    "from sklearn.linear_model import LogisticRegression\n",
    "from sklearn.svm import SVC\n",
    "\n",
    "from modeling_main import ReviewClassify\n",
    "from tokenization import Tokenization\n",
    "from help import get_tokenized_sent, get_stopwords"
   ]
  },
  {
   "cell_type": "code",
   "execution_count": 1,
   "metadata": {},
   "outputs": [
    {
     "ename": "NameError",
     "evalue": "name 'pd' is not defined",
     "output_type": "error",
     "traceback": [
      "\u001b[0;31m---------------------------------------------------------------------------\u001b[0m",
      "\u001b[0;31mNameError\u001b[0m                                 Traceback (most recent call last)",
      "\u001b[0;32m<ipython-input-1-bf5d093f8516>\u001b[0m in \u001b[0;36m<module>\u001b[0;34m\u001b[0m\n\u001b[1;32m      2\u001b[0m \u001b[0;34m\u001b[0m\u001b[0m\n\u001b[1;32m      3\u001b[0m \u001b[0;31m# TODO: data preprocess again (include the untokenized review)\u001b[0m\u001b[0;34m\u001b[0m\u001b[0;34m\u001b[0m\u001b[0;34m\u001b[0m\u001b[0m\n\u001b[0;32m----> 4\u001b[0;31m \u001b[0mall_raw_labeled_data\u001b[0m \u001b[0;34m=\u001b[0m \u001b[0mpd\u001b[0m\u001b[0;34m.\u001b[0m\u001b[0mread_csv\u001b[0m\u001b[0;34m(\u001b[0m\u001b[0;34m'../res/all_raw_labeled_data.csv'\u001b[0m\u001b[0;34m)\u001b[0m\u001b[0;34m\u001b[0m\u001b[0;34m\u001b[0m\u001b[0m\n\u001b[0m\u001b[1;32m      5\u001b[0m \u001b[0mprint\u001b[0m\u001b[0;34m(\u001b[0m\u001b[0mlen\u001b[0m\u001b[0;34m(\u001b[0m\u001b[0mall_raw_labeled_data\u001b[0m\u001b[0;34m)\u001b[0m\u001b[0;34m)\u001b[0m\u001b[0;34m\u001b[0m\u001b[0;34m\u001b[0m\u001b[0m\n\u001b[1;32m      6\u001b[0m \u001b[0;34m\u001b[0m\u001b[0m\n",
      "\u001b[0;31mNameError\u001b[0m: name 'pd' is not defined"
     ]
    }
   ],
   "source": [
    "## task: preprocess data to include untokenized user reviews (finished)\n",
    "# data preprocess again (include the untokenized review)\n",
    "all_raw_labeled_data = pd.read_csv('../res/all_raw_labeled_data.csv')\n",
    "print(len(all_raw_labeled_data))\n",
    "reviews = all_raw_labeled_data.review.values\n",
    "print(len(reviews))\n",
    "all_raw_labeled_data['review_tokens'] = all_raw_labeled_data['review'].apply(get_tokenized_sent)\n",
    "all_raw_labeled_data\n",
    "# reorder columns \n",
    "all_raw_labeled_data = all_raw_labeled_data[['review','review_tokens','label','label_encoded']]\n",
    "all_raw_labeled_data.head()\n",
    "# output to csv file\n",
    "# all_raw_labeled_data.to_csv('../res/labeled_data_with_without_tk.csv', index = False)"
   ]
  },
  {
   "cell_type": "code",
   "execution_count": 2,
   "metadata": {},
   "outputs": [
    {
     "name": "stdout",
     "output_type": "stream",
     "text": [
      "training data has 1038 examples\n",
      "test data has 512 examples\n",
      "there are 10 classes\n",
      "there are only 424 user reviews picked by classes after manual setting threshold\n"
     ]
    },
    {
     "data": {
      "text/html": [
       "<div>\n",
       "<style scoped>\n",
       "    .dataframe tbody tr th:only-of-type {\n",
       "        vertical-align: middle;\n",
       "    }\n",
       "\n",
       "    .dataframe tbody tr th {\n",
       "        vertical-align: top;\n",
       "    }\n",
       "\n",
       "    .dataframe thead th {\n",
       "        text-align: right;\n",
       "    }\n",
       "</style>\n",
       "<table border=\"1\" class=\"dataframe\">\n",
       "  <thead>\n",
       "    <tr style=\"text-align: right;\">\n",
       "      <th></th>\n",
       "      <th>index</th>\n",
       "      <th>review</th>\n",
       "      <th>review_tokens</th>\n",
       "      <th>label</th>\n",
       "      <th>label_encoded</th>\n",
       "      <th>labels_predicted</th>\n",
       "    </tr>\n",
       "  </thead>\n",
       "  <tbody>\n",
       "    <tr>\n",
       "      <th>0</th>\n",
       "      <td>0</td>\n",
       "      <td>行李箱丢了！在荷兰机场语言不通，你们航空公司也没个人来管事，解释！</td>\n",
       "      <td>行李箱 丢 荷兰 机场 语言不通 航空公司 管事 解释</td>\n",
       "      <td>到达</td>\n",
       "      <td>2</td>\n",
       "      <td>[1]</td>\n",
       "    </tr>\n",
       "    <tr>\n",
       "      <th>1</th>\n",
       "      <td>1</td>\n",
       "      <td>昨晚（11月11日）我搭乘cz8278次18:25长沙飞海口的航班，飞机下降临近海口时，我突...</td>\n",
       "      <td>昨晚  月  日 搭乘 cz 次   长沙 飞 海口 航班 飞机 下降 临近 海口 时 突发...</td>\n",
       "      <td>到达</td>\n",
       "      <td>2</td>\n",
       "      <td>[5]</td>\n",
       "    </tr>\n",
       "    <tr>\n",
       "      <th>2</th>\n",
       "      <td>2</td>\n",
       "      <td>延误能不能早点通知，我就好修改航班，下午16点到机场，延误就早点通知，我就能修改18点的航班...</td>\n",
       "      <td>延误 早点 通知 修改 航班 下午  点到 机场 延误 早点 通知 修改  点 航班 延误 ...</td>\n",
       "      <td>中转</td>\n",
       "      <td>0</td>\n",
       "      <td>[0, 1]</td>\n",
       "    </tr>\n",
       "    <tr>\n",
       "      <th>3</th>\n",
       "      <td>3</td>\n",
       "      <td>严重晚点</td>\n",
       "      <td>晚点</td>\n",
       "      <td>中转</td>\n",
       "      <td>0</td>\n",
       "      <td>[1, 2]</td>\n",
       "    </tr>\n",
       "    <tr>\n",
       "      <th>4</th>\n",
       "      <td>4</td>\n",
       "      <td>我在网上补登里程、只能䃼登上9月24日南京-广州、国际段䃼登不上、麻烦处理一下。 zhu n...</td>\n",
       "      <td>网上 补登 里程 只能 䃼 登上 月  日 南京 广州 国际 段 䃼 登不上 麻烦   zh...</td>\n",
       "      <td>售后</td>\n",
       "      <td>3</td>\n",
       "      <td>[3]</td>\n",
       "    </tr>\n",
       "  </tbody>\n",
       "</table>\n",
       "</div>"
      ],
      "text/plain": [
       "   index                                             review  \\\n",
       "0      0                  行李箱丢了！在荷兰机场语言不通，你们航空公司也没个人来管事，解释！   \n",
       "1      1  昨晚（11月11日）我搭乘cz8278次18:25长沙飞海口的航班，飞机下降临近海口时，我突...   \n",
       "2      2  延误能不能早点通知，我就好修改航班，下午16点到机场，延误就早点通知，我就能修改18点的航班...   \n",
       "3      3                                               严重晚点   \n",
       "4      4  我在网上补登里程、只能䃼登上9月24日南京-广州、国际段䃼登不上、麻烦处理一下。 zhu n...   \n",
       "\n",
       "                                       review_tokens label  label_encoded  \\\n",
       "0                        行李箱 丢 荷兰 机场 语言不通 航空公司 管事 解释    到达              2   \n",
       "1  昨晚  月  日 搭乘 cz 次   长沙 飞 海口 航班 飞机 下降 临近 海口 时 突发...    到达              2   \n",
       "2  延误 早点 通知 修改 航班 下午  点到 机场 延误 早点 通知 修改  点 航班 延误 ...    中转              0   \n",
       "3                                                 晚点    中转              0   \n",
       "4  网上 补登 里程 只能 䃼 登上 月  日 南京 广州 国际 段 䃼 登不上 麻烦   zh...    售后              3   \n",
       "\n",
       "  labels_predicted  \n",
       "0              [1]  \n",
       "1              [5]  \n",
       "2           [0, 1]  \n",
       "3           [1, 2]  \n",
       "4              [3]  "
      ]
     },
     "execution_count": 2,
     "metadata": {},
     "output_type": "execute_result"
    },
    {
     "data": {
      "image/png": "[encoded data removed]",
      "text/plain": [
       "<Figure size 720x576 with 10 Axes>"
      ]
     },
     "metadata": {
      "needs_background": "light"
     },
     "output_type": "display_data"
    }
   ],
   "source": [
    "## modeling: logistic regression\n",
    "rc = ReviewClassify(LogisticRegression())\n",
    "class_reviews_dct_lg = rc.classify_reviews('../res/labeled_data_with_without_tk.csv')\n",
    "# reverse key-value result in class_reviews_dct \n",
    "# keys are indices of user reviews in test data, values are the predicted \"high-proba\" labels associated\n",
    "review_label_lg = rc.reformat_review_label(class_reviews_dct_lg)\n",
    "\n",
    "# add predicted labels as new column in test_data dataframe\n",
    "joined_test_data = rc.add_pred_to_data()\n",
    "joined_test_data.head()"
   ]
  },
  {
   "cell_type": "code",
   "execution_count": 3,
   "metadata": {},
   "outputs": [
    {
     "name": "stdout",
     "output_type": "stream",
     "text": [
      "user review indices (in test data) picked by class 0: [2, 5, 6, 26, 51, 62, 68, 69, 130, 143, 191, 206, 224, 226, 227, 230, 244, 246, 248, 279, 304, 307, 308, 310, 339, 343, 356, 361, 362, 374, 387, 404, 407, 411, 419, 432, 436, 450, 452, 456, 458, 459, 470, 477, 483, 488, 493, 508]\n",
      "\"high-probability\" labels of user review (index=2 positioned in test data): [0, 1]\n"
     ]
    }
   ],
   "source": [
    "# checking\n",
    "print('user review indices (in test data) picked by class 0:', class_reviews_dct_lg[0])\n",
    "# different from original indices in the entire dataset\n",
    "\n",
    "# more checking \n",
    "print('\"high-probability\" labels of user review (index=2 positioned in test data):', review_label_lg[2])"
   ]
  },
  {
   "cell_type": "code",
   "execution_count": 9,
   "metadata": {},
   "outputs": [
    {
     "data": {
      "text/plain": [
       "{'计划': 7,\n",
       " '机上': 5,\n",
       " '中转': 0,\n",
       " '售后': 3,\n",
       " '预订': 9,\n",
       " '设计': 8,\n",
       " '出发': 1,\n",
       " '性能': 4,\n",
       " '行程': 6,\n",
       " '到达': 2}"
      ]
     },
     "execution_count": 9,
     "metadata": {},
     "output_type": "execute_result"
    }
   ],
   "source": [
    "# reference of label encodings\n",
    "rc.labels_index"
   ]
  },
  {
   "cell_type": "code",
   "execution_count": 8,
   "metadata": {},
   "outputs": [
    {
     "name": "stdout",
     "output_type": "stream",
     "text": [
      "indices with multiple labels: [2, 5, 26, 51, 62, 130, 143, 191, 206, 226, 246, 307, 356, 361, 362, 374, 404, 419, 432, 452, 456, 458, 459, 477, 483, 493, 508, 3, 21, 52, 64, 67, 175, 188, 196, 229, 245, 317, 333, 341, 344, 347, 367, 385, 422, 446, 461, 478, 12, 352, 438, 71, 145, 243, 280, 282, 327, 412, 434, 482, 53, 74, 116, 202, 220, 285, 328, 330, 331, 342, 378, 395, 409, 428, 448, 449, 462, 492, 495, 271, 309, 322, 390, 400, 16, 109, 135, 414, 48, 354, 418]\n"
     ]
    }
   ],
   "source": [
    "## task: find the reviews assigned to multiple labels\n",
    "indices_with_multiple_labels = rc.get_review_with_multiple_labels(threshold = 1)\n",
    "\n",
    "# get subset dataframe by indices with multiple labels\n",
    "data_multiple_labels = rc.get_review_data_with_multiple_labels(indices_with_multiple_labels)\n",
    "\n",
    "# output results to csv file\n",
    "data_multiple_labels = data_multiple_labels.drop(columns = ['index'])\n",
    "data_multiple_labels.to_csv('../res/reviews_with_multiple_labels_lg.csv', index = False)"
   ]
  },
  {
   "cell_type": "code",
   "execution_count": 22,
   "metadata": {},
   "outputs": [],
   "source": [
    "## task: get reviews without any labels picked\n",
    "# joined_test_data\n",
    "data_no_labels = joined_test_data[joined_test_data.isnull().any(axis=1)]\n",
    "data_no_labels = data_no_labels.drop(columns = ['index'])\n",
    "data_no_labels.to_csv('../res/reviews_with_no_labels_lg.csv', index = False)"
   ]
  },
  {
   "cell_type": "code",
   "execution_count": null,
   "metadata": {},
   "outputs": [],
   "source": [
    "# check results by common sense"
   ]
  },
  {
   "cell_type": "code",
   "execution_count": null,
   "metadata": {},
   "outputs": [],
   "source": [
    "# TODO: Naive Bayes"
   ]
  }
 ],
 "metadata": {
  "kernelspec": {
   "display_name": "Python 3",
   "language": "python",
   "name": "python3"
  },
  "language_info": {
   "codemirror_mode": {
    "name": "ipython",
    "version": 3
   },
   "file_extension": ".py",
   "mimetype": "text/x-python",
   "name": "python",
   "nbconvert_exporter": "python",
   "pygments_lexer": "ipython3",
   "version": "3.6.8"
  }
 },
 "nbformat": 4,
 "nbformat_minor": 2
}
