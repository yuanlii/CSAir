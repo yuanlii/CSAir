{
 "cells": [
  {
   "cell_type": "markdown",
   "metadata": {},
   "source": [
    "readme: this file is used to process raw labeled data (04/08/2019)"
   ]
  },
  {
   "cell_type": "code",
   "execution_count": 38,
   "metadata": {},
   "outputs": [],
   "source": [
    "import os\n",
    "os.chdir('/Users/liyuan/desktop/CSAir/codes')\n",
    "import pandas as pd\n",
    "import re\n",
    "import glob\n",
    "import numpy as np\n",
    "import time\n",
    "import jieba\n",
    "import jieba.posseg as pseg\n",
    "import jieba.analyse\n",
    "\n",
    "from process_labeled_data import ProcessLabeledData"
   ]
  },
  {
   "cell_type": "code",
   "execution_count": 39,
   "metadata": {},
   "outputs": [
    {
     "name": "stdout",
     "output_type": "stream",
     "text": [
      "there are 1551 labeled user reviews\n"
     ]
    },
    {
     "data": {
      "text/html": [
       "<div>\n",
       "<style scoped>\n",
       "    .dataframe tbody tr th:only-of-type {\n",
       "        vertical-align: middle;\n",
       "    }\n",
       "\n",
       "    .dataframe tbody tr th {\n",
       "        vertical-align: top;\n",
       "    }\n",
       "\n",
       "    .dataframe thead th {\n",
       "        text-align: right;\n",
       "    }\n",
       "</style>\n",
       "<table border=\"1\" class=\"dataframe\">\n",
       "  <thead>\n",
       "    <tr style=\"text-align: right;\">\n",
       "      <th></th>\n",
       "      <th>review</th>\n",
       "      <th>label</th>\n",
       "      <th>label_encoded</th>\n",
       "    </tr>\n",
       "  </thead>\n",
       "  <tbody>\n",
       "    <tr>\n",
       "      <th>0</th>\n",
       "      <td>生日优惠券还有领取时间限制的？！下次希望能标注一下领取时间限制</td>\n",
       "      <td>计划</td>\n",
       "      <td>7</td>\n",
       "    </tr>\n",
       "    <tr>\n",
       "      <th>1</th>\n",
       "      <td>参加了11月1号的“11.11购50元抵用券”，至今未收到该优惠券。</td>\n",
       "      <td>计划</td>\n",
       "      <td>7</td>\n",
       "    </tr>\n",
       "    <tr>\n",
       "      <th>2</th>\n",
       "      <td>扑街，没有跟星巴克合作5折优惠，写上去干尼玛啊</td>\n",
       "      <td>计划</td>\n",
       "      <td>7</td>\n",
       "    </tr>\n",
       "    <tr>\n",
       "      <th>3</th>\n",
       "      <td>请问广州飞墨尔本的航班超额行李要多少钱1kg.我收到你们发的信息是4折，但具体多少钱1kg不知道</td>\n",
       "      <td>计划</td>\n",
       "      <td>7</td>\n",
       "    </tr>\n",
       "    <tr>\n",
       "      <th>4</th>\n",
       "      <td>請問帶一個20吋行李箱加電腦後背包是否需加行李費</td>\n",
       "      <td>计划</td>\n",
       "      <td>7</td>\n",
       "    </tr>\n",
       "  </tbody>\n",
       "</table>\n",
       "</div>"
      ],
      "text/plain": [
       "                                             review label  label_encoded\n",
       "0                   生日优惠券还有领取时间限制的？！下次希望能标注一下领取时间限制    计划              7\n",
       "1                参加了11月1号的“11.11购50元抵用券”，至今未收到该优惠券。    计划              7\n",
       "2                           扑街，没有跟星巴克合作5折优惠，写上去干尼玛啊    计划              7\n",
       "3  请问广州飞墨尔本的航班超额行李要多少钱1kg.我收到你们发的信息是4折，但具体多少钱1kg不知道    计划              7\n",
       "4                          請問帶一個20吋行李箱加電腦後背包是否需加行李費    计划              7"
      ]
     },
     "execution_count": 39,
     "metadata": {},
     "output_type": "execute_result"
    }
   ],
   "source": [
    "pld = ProcessLabeledData()\n",
    "all_raw_labeled_data = pld.concat_labeled_data('../Source_Data/CSV_files/*.csv')\n",
    "print('there are %d labeled user reviews' %len(all_raw_labeled_data))\n",
    "all_raw_labeled_data = pld.encode_labeled_data('../res/all_raw_labeled_data.csv')\n",
    "all_raw_labeled_data.head()"
   ]
  },
  {
   "cell_type": "code",
   "execution_count": 40,
   "metadata": {},
   "outputs": [
    {
     "data": {
      "text/html": [
       "<div>\n",
       "<style scoped>\n",
       "    .dataframe tbody tr th:only-of-type {\n",
       "        vertical-align: middle;\n",
       "    }\n",
       "\n",
       "    .dataframe tbody tr th {\n",
       "        vertical-align: top;\n",
       "    }\n",
       "\n",
       "    .dataframe thead th {\n",
       "        text-align: right;\n",
       "    }\n",
       "</style>\n",
       "<table border=\"1\" class=\"dataframe\">\n",
       "  <thead>\n",
       "    <tr style=\"text-align: right;\">\n",
       "      <th></th>\n",
       "      <th>review</th>\n",
       "      <th>review_tokens</th>\n",
       "      <th>label</th>\n",
       "      <th>label_encoded</th>\n",
       "    </tr>\n",
       "  </thead>\n",
       "  <tbody>\n",
       "    <tr>\n",
       "      <th>0</th>\n",
       "      <td>生日优惠券还有领取时间限制的？！下次希望能标注一下领取时间限制</td>\n",
       "      <td>生日 优惠券 领取 时间 下次 希望 标注 领取 时间</td>\n",
       "      <td>计划</td>\n",
       "      <td>7</td>\n",
       "    </tr>\n",
       "    <tr>\n",
       "      <th>1</th>\n",
       "      <td>参加了11月1号的“11.11购50元抵用券”，至今未收到该优惠券。</td>\n",
       "      <td>参加 月 号 购 元 抵用券 未 收到 优惠券</td>\n",
       "      <td>计划</td>\n",
       "      <td>7</td>\n",
       "    </tr>\n",
       "    <tr>\n",
       "      <th>2</th>\n",
       "      <td>扑街，没有跟星巴克合作5折优惠，写上去干尼玛啊</td>\n",
       "      <td>扑街 星巴克 合作 折 优惠 写上去 干 尼玛</td>\n",
       "      <td>计划</td>\n",
       "      <td>7</td>\n",
       "    </tr>\n",
       "    <tr>\n",
       "      <th>3</th>\n",
       "      <td>请问广州飞墨尔本的航班超额行李要多少钱1kg.我收到你们发的信息是4折，但具体多少钱1kg不知道</td>\n",
       "      <td>请问 广州 飞 墨尔本 航班 超额 行李 钱 收到 发 信息 折 钱</td>\n",
       "      <td>计划</td>\n",
       "      <td>7</td>\n",
       "    </tr>\n",
       "    <tr>\n",
       "      <th>4</th>\n",
       "      <td>請問帶一個20吋行李箱加電腦後背包是否需加行李費</td>\n",
       "      <td>請 問帶 一個 吋 行李箱 加電腦 後 背包 需加 行李 費</td>\n",
       "      <td>计划</td>\n",
       "      <td>7</td>\n",
       "    </tr>\n",
       "  </tbody>\n",
       "</table>\n",
       "</div>"
      ],
      "text/plain": [
       "                                             review  \\\n",
       "0                   生日优惠券还有领取时间限制的？！下次希望能标注一下领取时间限制   \n",
       "1                参加了11月1号的“11.11购50元抵用券”，至今未收到该优惠券。   \n",
       "2                           扑街，没有跟星巴克合作5折优惠，写上去干尼玛啊   \n",
       "3  请问广州飞墨尔本的航班超额行李要多少钱1kg.我收到你们发的信息是4折，但具体多少钱1kg不知道   \n",
       "4                          請問帶一個20吋行李箱加電腦後背包是否需加行李費   \n",
       "\n",
       "                        review_tokens label  label_encoded  \n",
       "0         生日 优惠券 领取 时间 下次 希望 标注 领取 时间    计划              7  \n",
       "1             参加 月 号 购 元 抵用券 未 收到 优惠券    计划              7  \n",
       "2             扑街 星巴克 合作 折 优惠 写上去 干 尼玛    计划              7  \n",
       "3  请问 广州 飞 墨尔本 航班 超额 行李 钱 收到 发 信息 折 钱    计划              7  \n",
       "4      請 問帶 一個 吋 行李箱 加電腦 後 背包 需加 行李 費    计划              7  "
      ]
     },
     "execution_count": 40,
     "metadata": {},
     "output_type": "execute_result"
    }
   ],
   "source": [
    "# checking\n",
    "sents_tok_lst = []\n",
    "stopwords = [line.strip() for line in open('../Source_Data/stopwords.txt', 'r', encoding='utf-8').readlines()]   \n",
    "sents = all_raw_labeled_data.review\n",
    "for sent in sents:\n",
    "    tokenized_sent = ' '.join(word for word in jieba.cut(sent.strip()) if word not in stopwords)\n",
    "    # remove digit\n",
    "    tokenized_sent = re.sub(r'\\d+','',tokenized_sent)\n",
    "    # remove float\n",
    "    tokenized_sent = re.sub(r\"(\\d+\\.\\d+)\", '', tokenized_sent)\n",
    "    tokenized_sent = re.sub(r'[^\\w\\s]','', tokenized_sent)\n",
    "    # remove non-chinese characters\n",
    "    re_words = re.compile(u\"[\\u4e00-\\u9fa5]+\")\n",
    "    res = re.findall(re_words, tokenized_sent)\n",
    "    if res:\n",
    "        tokenized_sent = ' '.join([r for r in res])\n",
    "    sents_tok_lst.append(tokenized_sent)\n",
    "\n",
    "# reput tokenized reviews back to df\n",
    "all_raw_labeled_data['review_tokens'] = sents_tok_lst\n",
    "all_raw_labeled_data = all_raw_labeled_data[['review','review_tokens','label','label_encoded']]\n",
    "all_raw_labeled_data.head()\n"
   ]
  },
  {
   "cell_type": "code",
   "execution_count": 43,
   "metadata": {},
   "outputs": [],
   "source": [
    "# make sure review is typed as \"str\"\n",
    "all_raw_labeled_data.review = all_raw_labeled_data.review.astype('str')\n",
    "all_raw_labeled_data.review_tokens = all_raw_labeled_data.review_tokens.astype('str')"
   ]
  },
  {
   "cell_type": "code",
   "execution_count": 44,
   "metadata": {},
   "outputs": [],
   "source": [
    "all_raw_labeled_data.to_csv('../res/labeled_data_with_without_tk.csv', index = False)"
   ]
  },
  {
   "cell_type": "code",
   "execution_count": null,
   "metadata": {},
   "outputs": [],
   "source": []
  }
 ],
 "metadata": {
  "kernelspec": {
   "display_name": "Python 3",
   "language": "python",
   "name": "python3"
  },
  "language_info": {
   "codemirror_mode": {
    "name": "ipython",
    "version": 3
   },
   "file_extension": ".py",
   "mimetype": "text/x-python",
   "name": "python",
   "nbconvert_exporter": "python",
   "pygments_lexer": "ipython3",
   "version": "3.6.7"
  }
 },
 "nbformat": 4,
 "nbformat_minor": 2
}
