{
 "cells": [
  {
   "cell_type": "markdown",
   "metadata": {},
   "source": [
    "readme: this file is used to process raw labeled data (04/08/2019)"
   ]
  },
  {
   "cell_type": "code",
   "execution_count": 1,
   "metadata": {},
   "outputs": [
    {
     "name": "stdout",
     "output_type": "stream",
     "text": [
      "there are 1551 labeled user reviews\n"
     ]
    },
    {
     "data": {
      "text/html": [
       "<div>\n",
       "<style scoped>\n",
       "    .dataframe tbody tr th:only-of-type {\n",
       "        vertical-align: middle;\n",
       "    }\n",
       "\n",
       "    .dataframe tbody tr th {\n",
       "        vertical-align: top;\n",
       "    }\n",
       "\n",
       "    .dataframe thead th {\n",
       "        text-align: right;\n",
       "    }\n",
       "</style>\n",
       "<table border=\"1\" class=\"dataframe\">\n",
       "  <thead>\n",
       "    <tr style=\"text-align: right;\">\n",
       "      <th></th>\n",
       "      <th>review</th>\n",
       "      <th>label</th>\n",
       "      <th>label_encoded</th>\n",
       "    </tr>\n",
       "  </thead>\n",
       "  <tbody>\n",
       "    <tr>\n",
       "      <th>0</th>\n",
       "      <td>生日优惠券还有领取时间限制的？！下次希望能标注一下领取时间限制</td>\n",
       "      <td>计划</td>\n",
       "      <td>7</td>\n",
       "    </tr>\n",
       "    <tr>\n",
       "      <th>1</th>\n",
       "      <td>参加了11月1号的“11.11购50元抵用券”，至今未收到该优惠券。</td>\n",
       "      <td>计划</td>\n",
       "      <td>7</td>\n",
       "    </tr>\n",
       "    <tr>\n",
       "      <th>2</th>\n",
       "      <td>扑街，没有跟星巴克合作5折优惠，写上去干尼玛啊</td>\n",
       "      <td>计划</td>\n",
       "      <td>7</td>\n",
       "    </tr>\n",
       "    <tr>\n",
       "      <th>3</th>\n",
       "      <td>请问广州飞墨尔本的航班超额行李要多少钱1kg.我收到你们发的信息是4折，但具体多少钱1kg不知道</td>\n",
       "      <td>计划</td>\n",
       "      <td>7</td>\n",
       "    </tr>\n",
       "    <tr>\n",
       "      <th>4</th>\n",
       "      <td>請問帶一個20吋行李箱加電腦後背包是否需加行李費</td>\n",
       "      <td>计划</td>\n",
       "      <td>7</td>\n",
       "    </tr>\n",
       "  </tbody>\n",
       "</table>\n",
       "</div>"
      ],
      "text/plain": [
       "                                             review label  label_encoded\n",
       "0                   生日优惠券还有领取时间限制的？！下次希望能标注一下领取时间限制    计划              7\n",
       "1                参加了11月1号的“11.11购50元抵用券”，至今未收到该优惠券。    计划              7\n",
       "2                           扑街，没有跟星巴克合作5折优惠，写上去干尼玛啊    计划              7\n",
       "3  请问广州飞墨尔本的航班超额行李要多少钱1kg.我收到你们发的信息是4折，但具体多少钱1kg不知道    计划              7\n",
       "4                          請問帶一個20吋行李箱加電腦後背包是否需加行李費    计划              7"
      ]
     },
     "execution_count": 1,
     "metadata": {},
     "output_type": "execute_result"
    }
   ],
   "source": [
    "from process_labeled_data import ProcessLabeledData\n",
    "\n",
    "pld = ProcessLabeledData()\n",
    "all_raw_labeled_data = pld.concat_labeled_data('../Source_Data/CSV_files/*.csv')\n",
    "print('there are %d labeled user reviews' %len(all_raw_labeled_data))\n",
    "all_raw_labeled_data = pld.encode_labeled_data('../res/all_raw_labeled_data.csv')\n",
    "all_raw_labeled_data.head()\n"
   ]
  }
 ],
 "metadata": {
  "kernelspec": {
   "display_name": "Python 3",
   "language": "python",
   "name": "python3"
  },
  "language_info": {
   "codemirror_mode": {
    "name": "ipython",
    "version": 3
   },
   "file_extension": ".py",
   "mimetype": "text/x-python",
   "name": "python",
   "nbconvert_exporter": "python",
   "pygments_lexer": "ipython3",
   "version": "3.6.7"
  }
 },
 "nbformat": 4,
 "nbformat_minor": 2
}
