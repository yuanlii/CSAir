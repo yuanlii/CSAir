{
 "cells": [
  {
   "cell_type": "markdown",
   "metadata": {},
   "source": [
    "README: <br>\n",
    "- label propagated using kernel = 'rbf' (takes much shorter time than knn to train)"
   ]
  },
  {
   "cell_type": "code",
   "execution_count": 2,
   "metadata": {},
   "outputs": [],
   "source": [
    "import pandas as pd\n",
    "import os\n",
    "os.chdir('/Users/liyuan/desktop/CSAir/codes')\n",
    "from sklearn.model_selection import train_test_split\n",
    "from sklearn.feature_extraction.text import CountVectorizer, TfidfTransformer\n",
    "import time\n",
    "import json\n",
    "\n",
    "import numpy as np\n",
    "import matplotlib.pyplot as plt\n",
    "from scipy import stats\n",
    "from sklearn.semi_supervised import label_propagation\n",
    "from sklearn.metrics import confusion_matrix, classification_report\n",
    "\n",
    "from semi_supervise import Semi_Supervise"
   ]
  },
  {
   "cell_type": "code",
   "execution_count": 3,
   "metadata": {},
   "outputs": [
    {
     "name": "stdout",
     "output_type": "stream",
     "text": [
      "there are 1550 examples in labeled dataset\n"
     ]
    },
    {
     "name": "stderr",
     "output_type": "stream",
     "text": [
      "/Users/liyuan/Desktop/CSAir/codes/semi_supervise.py:53: FutureWarning: Sorting because non-concatenation axis is not aligned. A future version\n",
      "of pandas will change to not sort by default.\n",
      "\n",
      "To accept the future behavior, pass 'sort=False'.\n",
      "\n",
      "To retain the current behavior and silence the warning, pass 'sort=True'.\n",
      "\n",
      "  self.data_concat = pd.concat([self.labeled_data, self.unlabeled_data],ignore_index=True)\n"
     ]
    },
    {
     "data": {
      "text/html": [
       "<div>\n",
       "<style scoped>\n",
       "    .dataframe tbody tr th:only-of-type {\n",
       "        vertical-align: middle;\n",
       "    }\n",
       "\n",
       "    .dataframe tbody tr th {\n",
       "        vertical-align: top;\n",
       "    }\n",
       "\n",
       "    .dataframe thead th {\n",
       "        text-align: right;\n",
       "    }\n",
       "</style>\n",
       "<table border=\"1\" class=\"dataframe\">\n",
       "  <thead>\n",
       "    <tr style=\"text-align: right;\">\n",
       "      <th></th>\n",
       "      <th>review</th>\n",
       "      <th>review_tokens</th>\n",
       "      <th>label</th>\n",
       "      <th>label_encoded</th>\n",
       "    </tr>\n",
       "  </thead>\n",
       "  <tbody>\n",
       "    <tr>\n",
       "      <th>0</th>\n",
       "      <td>NaN</td>\n",
       "      <td>想 积分换 购 机票</td>\n",
       "      <td>N/A</td>\n",
       "      <td>NaN</td>\n",
       "    </tr>\n",
       "    <tr>\n",
       "      <th>1</th>\n",
       "      <td>机场值机，电子登机牌不能登录？？？</td>\n",
       "      <td>机场 值机 电子 登机牌 登录</td>\n",
       "      <td>出发</td>\n",
       "      <td>1.0</td>\n",
       "    </tr>\n",
       "    <tr>\n",
       "      <th>2</th>\n",
       "      <td>NaN</td>\n",
       "      <td>国际航班 选座 操作</td>\n",
       "      <td>N/A</td>\n",
       "      <td>NaN</td>\n",
       "    </tr>\n",
       "    <tr>\n",
       "      <th>3</th>\n",
       "      <td>订机票，查询航班首选南方航空，暑假赶紧带孩子出去旅游，释放心情！</td>\n",
       "      <td>订机票 查询 航班 首选 南方 航空 暑假 赶紧 孩子 旅游 释放 心情</td>\n",
       "      <td>预订</td>\n",
       "      <td>9.0</td>\n",
       "    </tr>\n",
       "    <tr>\n",
       "      <th>4</th>\n",
       "      <td>NaN</td>\n",
       "      <td>订 南航 官网 机票 电子客票 号 南航 官网 验真</td>\n",
       "      <td>N/A</td>\n",
       "      <td>NaN</td>\n",
       "    </tr>\n",
       "  </tbody>\n",
       "</table>\n",
       "</div>"
      ],
      "text/plain": [
       "                             review                         review_tokens  \\\n",
       "0                               NaN                            想 积分换 购 机票   \n",
       "1                 机场值机，电子登机牌不能登录？？？                       机场 值机 电子 登机牌 登录   \n",
       "2                               NaN                            国际航班 选座 操作   \n",
       "3  订机票，查询航班首选南方航空，暑假赶紧带孩子出去旅游，释放心情！  订机票 查询 航班 首选 南方 航空 暑假 赶紧 孩子 旅游 释放 心情   \n",
       "4                               NaN            订 南航 官网 机票 电子客票 号 南航 官网 验真   \n",
       "\n",
       "  label  label_encoded  \n",
       "0   N/A            NaN  \n",
       "1    出发            1.0  \n",
       "2   N/A            NaN  \n",
       "3    预订            9.0  \n",
       "4   N/A            NaN  "
      ]
     },
     "execution_count": 3,
     "metadata": {},
     "output_type": "execute_result"
    }
   ],
   "source": [
    "ss = Semi_Supervise()\n",
    "# load labeled data\n",
    "labeled_data = ss.load_labeled_data('../res/labeled_data_with_without_tk.csv')\n",
    "labeled_data.head()\n",
    "\n",
    "# load unlabeled data\n",
    "unlabeled_data = ss.load_unlabeled_data_csv('../res/unlabeled_review_5000.csv')\n",
    "# concatenate labeled and unlabeled data\n",
    "data_concat = ss.concat_data()\n",
    "data_concat.head()"
   ]
  },
  {
   "cell_type": "code",
   "execution_count": 4,
   "metadata": {},
   "outputs": [],
   "source": [
    "# get X and y\n",
    "X = ss.get_X().toarray()\n",
    "y = data_concat.label_encoded.values"
   ]
  },
  {
   "cell_type": "code",
   "execution_count": 5,
   "metadata": {},
   "outputs": [
    {
     "name": "stdout",
     "output_type": "stream",
     "text": [
      "There are 1550 labeled review\n",
      "There are 6426 reviews in total\n"
     ]
    }
   ],
   "source": [
    "# checking\n",
    "print('There are %d labeled review'%len(labeled_data))\n",
    "print('There are %d reviews in total'%len(data_concat))"
   ]
  },
  {
   "cell_type": "code",
   "execution_count": 20,
   "metadata": {},
   "outputs": [
    {
     "name": "stdout",
     "output_type": "stream",
     "text": [
      "[1550 1551 1552 ... 6423 6424 6425]\n",
      "true labels:  [nan nan nan ... nan nan nan]\n",
      "predicted labels: [0. 1. 9. ... 4. 3. 1.]\n",
      "--- 11.003097772598267 seconds ---\n"
     ]
    }
   ],
   "source": [
    "n_total_samples = len(y)\n",
    "n_labeled_points = len(labeled_data)\n",
    "\n",
    "indices = np.arange(n_total_samples)\n",
    "unlabeled_set = indices[n_labeled_points:]\n",
    "print(unlabeled_set)\n",
    "\n",
    "y_train = np.copy(y)\n",
    "# convert np.nan to -1 => when feeding into label_propagation, cannot contain NA values\n",
    "y_train[np.isnan(y_train)] = -1\n",
    "y_train\n",
    "\n",
    "start_time = time.time()\n",
    "# try kernel = 'rbf' vs. kernel = 'knn'(treid)\n",
    "lp_model = label_propagation.LabelSpreading(kernel = 'rbf')\n",
    "lp_model.fit(X, y_train)\n",
    "predicted_labels = lp_model.transduction_[unlabeled_set]\n",
    "true_labels = y[unlabeled_set]\n",
    "print('true labels: ', true_labels)\n",
    "print('predicted labels:', predicted_labels)\n",
    "print(\"--- %s seconds ---\" % (time.time() - start_time))"
   ]
  },
  {
   "cell_type": "code",
   "execution_count": 24,
   "metadata": {},
   "outputs": [
    {
     "name": "stdout",
     "output_type": "stream",
     "text": [
      "{'预订': 9, '出发': 1, '设计': 8, '性能': 4, '到达': 2, '行程': 6, '机上': 5, '计划': 7, '中转': 0, '售后': 3}\n"
     ]
    },
    {
     "data": {
      "text/html": [
       "<div>\n",
       "<style scoped>\n",
       "    .dataframe tbody tr th:only-of-type {\n",
       "        vertical-align: middle;\n",
       "    }\n",
       "\n",
       "    .dataframe tbody tr th {\n",
       "        vertical-align: top;\n",
       "    }\n",
       "\n",
       "    .dataframe thead th {\n",
       "        text-align: right;\n",
       "    }\n",
       "</style>\n",
       "<table border=\"1\" class=\"dataframe\">\n",
       "  <thead>\n",
       "    <tr style=\"text-align: right;\">\n",
       "      <th></th>\n",
       "      <th>reviews</th>\n",
       "      <th>review_tokens</th>\n",
       "      <th>label</th>\n",
       "      <th>label_encoded</th>\n",
       "      <th>labels_pred</th>\n",
       "    </tr>\n",
       "  </thead>\n",
       "  <tbody>\n",
       "    <tr>\n",
       "      <th>0</th>\n",
       "      <td>查不到航班</td>\n",
       "      <td>查不到 航班</td>\n",
       "      <td>N/A</td>\n",
       "      <td>NaN</td>\n",
       "      <td>中转</td>\n",
       "    </tr>\n",
       "    <tr>\n",
       "      <th>1</th>\n",
       "      <td>我要取消在线选座的登机牌</td>\n",
       "      <td>我要 取消 在线 选座 登机牌</td>\n",
       "      <td>N/A</td>\n",
       "      <td>NaN</td>\n",
       "      <td>出发</td>\n",
       "    </tr>\n",
       "    <tr>\n",
       "      <th>2</th>\n",
       "      <td>本人被额外多办一张会员卡，南航会员办理流程是否需本人办理，而且我在被办理会员卡为郭忠能的时间...</td>\n",
       "      <td>额外 多办 一张 会员卡 南航 会员 办理 流程 需 办理 办理 会员卡 郭忠能 时间段 乘...</td>\n",
       "      <td>N/A</td>\n",
       "      <td>NaN</td>\n",
       "      <td>预订</td>\n",
       "    </tr>\n",
       "    <tr>\n",
       "      <th>3</th>\n",
       "      <td>打不開。半個小時依然打不開。浪費時間</td>\n",
       "      <td>打不開 半個 小時 依然 打不開 浪費 時間</td>\n",
       "      <td>N/A</td>\n",
       "      <td>NaN</td>\n",
       "      <td>出发</td>\n",
       "    </tr>\n",
       "    <tr>\n",
       "      <th>5</th>\n",
       "      <td>app上怎么也查不到还要飞多少里程或航段才能升级？</td>\n",
       "      <td>查不到 飞 里程 航段 升级</td>\n",
       "      <td>N/A</td>\n",
       "      <td>NaN</td>\n",
       "      <td>性能</td>\n",
       "    </tr>\n",
       "    <tr>\n",
       "      <th>6</th>\n",
       "      <td>我在广州白云机场办了南航的积分卡，现在暂时不准备去广东工作，卡不用寄到所写联系地址了，还有工...</td>\n",
       "      <td>广州白云机场 办 南航 积分 卡 暂时 广东 工作 卡 不用 寄到 写 联系地址 工作 单位...</td>\n",
       "      <td>N/A</td>\n",
       "      <td>NaN</td>\n",
       "      <td>性能</td>\n",
       "    </tr>\n",
       "    <tr>\n",
       "      <th>7</th>\n",
       "      <td>别人的信息怎么通知到我这里</td>\n",
       "      <td>信息 通知</td>\n",
       "      <td>N/A</td>\n",
       "      <td>NaN</td>\n",
       "      <td>出发</td>\n",
       "    </tr>\n",
       "    <tr>\n",
       "      <th>8</th>\n",
       "      <td>3月26日搭乘CZ8426从大阪飞深圳，遗留一把伞在飞机上，座位是35K，知道有没有看到，谢谢</td>\n",
       "      <td>月 日 搭乘 大阪 飞 深圳 遗留 一把 伞 飞机 座位 有没有 谢谢</td>\n",
       "      <td>N/A</td>\n",
       "      <td>NaN</td>\n",
       "      <td>性能</td>\n",
       "    </tr>\n",
       "    <tr>\n",
       "      <th>9</th>\n",
       "      <td>2018年05月17日已经反馈.....每次签到都要输入手机号，然后短信回复验证码才能签到，...</td>\n",
       "      <td>年 月 日 反馈 每次 签到 输入 手机号 短信 回复 验证码 签到 手机 营业厅 串通 赚...</td>\n",
       "      <td>N/A</td>\n",
       "      <td>NaN</td>\n",
       "      <td>售后</td>\n",
       "    </tr>\n",
       "    <tr>\n",
       "      <th>10</th>\n",
       "      <td>价格比别的网站贵一倍</td>\n",
       "      <td>价格比 网站 贵 一倍</td>\n",
       "      <td>N/A</td>\n",
       "      <td>NaN</td>\n",
       "      <td>售后</td>\n",
       "    </tr>\n",
       "  </tbody>\n",
       "</table>\n",
       "</div>"
      ],
      "text/plain": [
       "                                              reviews  \\\n",
       "0                                               查不到航班   \n",
       "1                                        我要取消在线选座的登机牌   \n",
       "2   本人被额外多办一张会员卡，南航会员办理流程是否需本人办理，而且我在被办理会员卡为郭忠能的时间...   \n",
       "3                                  打不開。半個小時依然打不開。浪費時間   \n",
       "5                           app上怎么也查不到还要飞多少里程或航段才能升级？   \n",
       "6   我在广州白云机场办了南航的积分卡，现在暂时不准备去广东工作，卡不用寄到所写联系地址了，还有工...   \n",
       "7                                       别人的信息怎么通知到我这里   \n",
       "8     3月26日搭乘CZ8426从大阪飞深圳，遗留一把伞在飞机上，座位是35K，知道有没有看到，谢谢   \n",
       "9   2018年05月17日已经反馈.....每次签到都要输入手机号，然后短信回复验证码才能签到，...   \n",
       "10                                         价格比别的网站贵一倍   \n",
       "\n",
       "                                        review_tokens label  label_encoded  \\\n",
       "0                                              查不到 航班   N/A            NaN   \n",
       "1                                     我要 取消 在线 选座 登机牌   N/A            NaN   \n",
       "2   额外 多办 一张 会员卡 南航 会员 办理 流程 需 办理 办理 会员卡 郭忠能 时间段 乘...   N/A            NaN   \n",
       "3                              打不開 半個 小時 依然 打不開 浪費 時間   N/A            NaN   \n",
       "5                                      查不到 飞 里程 航段 升级   N/A            NaN   \n",
       "6   广州白云机场 办 南航 积分 卡 暂时 广东 工作 卡 不用 寄到 写 联系地址 工作 单位...   N/A            NaN   \n",
       "7                                               信息 通知   N/A            NaN   \n",
       "8                 月 日 搭乘 大阪 飞 深圳 遗留 一把 伞 飞机 座位 有没有 谢谢   N/A            NaN   \n",
       "9   年 月 日 反馈 每次 签到 输入 手机号 短信 回复 验证码 签到 手机 营业厅 串通 赚...   N/A            NaN   \n",
       "10                                        价格比 网站 贵 一倍   N/A            NaN   \n",
       "\n",
       "   labels_pred  \n",
       "0           中转  \n",
       "1           出发  \n",
       "2           预订  \n",
       "3           出发  \n",
       "5           性能  \n",
       "6           性能  \n",
       "7           出发  \n",
       "8           性能  \n",
       "9           售后  \n",
       "10          售后  "
      ]
     },
     "execution_count": 24,
     "metadata": {},
     "output_type": "execute_result"
    }
   ],
   "source": [
    "# re-put prediction results to unlabeleda data df\n",
    "unlabeled_data['labels_pred'] = predicted_labels\n",
    "\n",
    "# load label index dictionary\n",
    "with open('../res/labels_encoded_dict.txt','r') as f:\n",
    "    labels_encoded_dict = json.load(f)\n",
    "print(labels_encoded_dict)\n",
    "    \n",
    "def get_class(row):\n",
    "    for k in list(labels_encoded_dict.keys()):\n",
    "        if labels_encoded_dict[k] == row:\n",
    "            return k\n",
    "        \n",
    "# match predicted labels to reviews\n",
    "unlabeled_data['labels_pred'] = unlabeled_data['labels_pred'].apply(get_class)\n",
    "unlabeled_data.head(10)"
   ]
  },
  {
   "cell_type": "code",
   "execution_count": 29,
   "metadata": {},
   "outputs": [],
   "source": [
    "# result output to csv\n",
    "output_df = unlabeled_data[['reviews','labels_pred']]\n",
    "output_df.to_csv('../res/unlabeled_propagation_rbf.csv', index = False)"
   ]
  },
  {
   "cell_type": "code",
   "execution_count": null,
   "metadata": {},
   "outputs": [],
   "source": []
  }
 ],
 "metadata": {
  "kernelspec": {
   "display_name": "Python 3",
   "language": "python",
   "name": "python3"
  },
  "language_info": {
   "codemirror_mode": {
    "name": "ipython",
    "version": 3
   },
   "file_extension": ".py",
   "mimetype": "text/x-python",
   "name": "python",
   "nbconvert_exporter": "python",
   "pygments_lexer": "ipython3",
   "version": "3.6.7"
  }
 },
 "nbformat": 4,
 "nbformat_minor": 2
}
