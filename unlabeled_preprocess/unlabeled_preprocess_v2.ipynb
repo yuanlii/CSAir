{
 "cells": [
  {
   "cell_type": "markdown",
   "metadata": {},
   "source": [
    "**readme**: <br>\n",
    "scripts below are used to sample unlabeled data (5000) and tokenized text; <br>\n",
    "output tokenized unlabeled data is stored under res/tokenized_sampled_unlabeled_reviews"
   ]
  },
  {
   "cell_type": "code",
   "execution_count": null,
   "metadata": {},
   "outputs": [],
   "source": [
    "import pandas as pd\n",
    "import os\n",
    "os.chdir('/Users/liyuan/desktop/CSAir/codes')\n",
    "import re\n",
    "import csv\n",
    "import numpy as np\n",
    "import warnings\n",
    "warnings.filterwarnings('ignore')\n",
    "import jieba\n",
    "import jieba.posseg as pseg\n",
    "import jieba.analyse\n",
    "import glob\n",
    "import codecs\n",
    "import json\n",
    "\n",
    "from tokenization import Tokenization\n",
    "from unlabeled_preprocess import unlabeled_preprocess"
   ]
  },
  {
   "cell_type": "code",
   "execution_count": 15,
   "metadata": {},
   "outputs": [
    {
     "name": "stdout",
     "output_type": "stream",
     "text": [
      "反馈数据 in total has 24233 reviews\n",
      "反馈数据举3例： ['今天的CZ3539航班的毛毯质量很差，下来发现裤子上掉落很多毛。', '最近经常出现提前很久打电话预留前排靠过道位置，到机场就没有，一直道歉，作为高端客户，感觉很不好。', '最近航班服务经常出问题，提前很久打电话预留前排靠过道位置，到机场就没有物流，作为高端客户，对这样的服务很不满意。']\n"
     ]
    }
   ],
   "source": [
    "pu = unlabeled_preprocess()\n",
    "fk_reviews = pu.load_unlabeled_data()\n",
    "# randomly sampled 5000 unlabeled user reviews"
   ]
  },
  {
   "cell_type": "code",
   "execution_count": null,
   "metadata": {},
   "outputs": [],
   "source": [
    "sampled_unlabeled_reviews = pu.sample_unlabeled(5000,'../res/sampled_unlabeled_reviews.txt')"
   ]
  },
  {
   "cell_type": "code",
   "execution_count": 3,
   "metadata": {},
   "outputs": [
    {
     "name": "stdout",
     "output_type": "stream",
     "text": [
      "see the first 10 unlabeled reviews ...\n"
     ]
    },
    {
     "data": {
      "text/plain": [
       "['查不到航班',\n",
       " '我要取消在线选座的登机牌',\n",
       " '本人被额外多办一张会员卡，南航会员办理流程是否需本人办理，而且我在被办理会员卡为郭忠能的时间段乘用过南航飞机，是否为了完成任务利用客户信息多次办理会员卡，对此给本人带来不便，请南航内部严查，避免给客户带来不便，造成客户信息泄漏',\n",
       " '打不開。半個小時依然打不開。浪費時間',\n",
       " 'n/a',\n",
       " 'app上怎么也查不到还要飞多少里程或航段才能升级？',\n",
       " '我在广州白云机场办了南航的积分卡，现在暂时不准备去广东工作，卡不用寄到所写联系地址了，还有工作单位，麻烦把个人资料销毁，谢谢',\n",
       " '别人的信息怎么通知到我这里',\n",
       " '3月26日搭乘CZ8426从大阪飞深圳，遗留一把伞在飞机上，座位是35K，知道有没有看到，谢谢',\n",
       " '2018年05月17日已经反馈.....每次签到都要输入手机号，然后短信回复验证码才能签到，这是不是跟手机营业厅串通赚取短信费？.....还没看到回复？？？']"
      ]
     },
     "execution_count": 3,
     "metadata": {},
     "output_type": "execute_result"
    }
   ],
   "source": [
    "print('see the first 10 unlabeled reviews ...')\n",
    "sampled_unlabeled_reviews[:10]"
   ]
  },
  {
   "cell_type": "code",
   "execution_count": 4,
   "metadata": {},
   "outputs": [
    {
     "name": "stderr",
     "output_type": "stream",
     "text": [
      "Building prefix dict from the default dictionary ...\n",
      "Loading model from cache /var/folders/_d/b3chzbkx5vgg1wtjm942qj4m0000gn/T/jieba.cache\n",
      "Loading model cost 3.051 seconds.\n",
      "Prefix dict has been built succesfully.\n"
     ]
    }
   ],
   "source": [
    "# re-process unlabeled data, including raw untokenized data\n",
    "sents_tok_lst = []\n",
    "stopwords = [line.strip() for line in open('../Source_Data/stopwords.txt', 'r', encoding='utf-8').readlines()]   \n",
    "sents = sampled_unlabeled_reviews\n",
    "for sent in sents:\n",
    "    tokenized_sent = ' '.join(word for word in jieba.cut(sent.strip()) if word not in stopwords)\n",
    "    # remove digit\n",
    "    tokenized_sent = re.sub(r'\\d+','',tokenized_sent)\n",
    "    # remove float\n",
    "    tokenized_sent = re.sub(r\"(\\d+\\.\\d+)\", '', tokenized_sent)\n",
    "    tokenized_sent = re.sub(r'[^\\w\\s]','', tokenized_sent)\n",
    "    # remove non-chinese characters\n",
    "    re_words = re.compile(u\"[\\u4e00-\\u9fa5]+\")\n",
    "    res = re.findall(re_words, tokenized_sent)\n",
    "    if res:\n",
    "        tokenized_sent = ' '.join([r for r in res])\n",
    "    sents_tok_lst.append(tokenized_sent)"
   ]
  },
  {
   "cell_type": "code",
   "execution_count": 9,
   "metadata": {},
   "outputs": [
    {
     "name": "stdout",
     "output_type": "stream",
     "text": [
      "Total length of tokenized unlabeled user review 5000\n",
      "take a look at the first 10 tokenized unlabeled data ...\n"
     ]
    },
    {
     "data": {
      "text/plain": [
       "['查不到 航班',\n",
       " '我要 取消 在线 选座 登机牌',\n",
       " '额外 多办 一张 会员卡 南航 会员 办理 流程 需 办理 办理 会员卡 郭忠能 时间段 乘用 南航 飞机 利用 客户 信息 办理 会员卡 对此 带来 不便 请 南航 内部 严查 客户 带来 不便 客户 信息 泄漏',\n",
       " '打不開 半個 小時 依然 打不開 浪費 時間',\n",
       " 'n a',\n",
       " '查不到 飞 里程 航段 升级',\n",
       " '广州白云机场 办 南航 积分 卡 暂时 广东 工作 卡 不用 寄到 写 联系地址 工作 单位 麻烦 个人资料 销毁 谢谢',\n",
       " '信息 通知',\n",
       " '月 日 搭乘 大阪 飞 深圳 遗留 一把 伞 飞机 座位 有没有 谢谢',\n",
       " '年 月 日 反馈 每次 签到 输入 手机号 短信 回复 验证码 签到 手机 营业厅 串通 赚取 短信 费 回复']"
      ]
     },
     "execution_count": 9,
     "metadata": {},
     "output_type": "execute_result"
    }
   ],
   "source": [
    "print('Total length of tokenized unlabeled user review %d'%len(sents_tok_lst))\n",
    "print('take a look at the first 10 tokenized unlabeled data ...')\n",
    "sents_tok_lst[:10]"
   ]
  },
  {
   "cell_type": "code",
   "execution_count": 14,
   "metadata": {},
   "outputs": [
    {
     "data": {
      "text/html": [
       "<div>\n",
       "<style scoped>\n",
       "    .dataframe tbody tr th:only-of-type {\n",
       "        vertical-align: middle;\n",
       "    }\n",
       "\n",
       "    .dataframe tbody tr th {\n",
       "        vertical-align: top;\n",
       "    }\n",
       "\n",
       "    .dataframe thead th {\n",
       "        text-align: right;\n",
       "    }\n",
       "</style>\n",
       "<table border=\"1\" class=\"dataframe\">\n",
       "  <thead>\n",
       "    <tr style=\"text-align: right;\">\n",
       "      <th></th>\n",
       "      <th>reviews</th>\n",
       "      <th>review_tokens</th>\n",
       "    </tr>\n",
       "  </thead>\n",
       "  <tbody>\n",
       "    <tr>\n",
       "      <th>0</th>\n",
       "      <td>查不到航班</td>\n",
       "      <td>查不到 航班</td>\n",
       "    </tr>\n",
       "    <tr>\n",
       "      <th>1</th>\n",
       "      <td>我要取消在线选座的登机牌</td>\n",
       "      <td>我要 取消 在线 选座 登机牌</td>\n",
       "    </tr>\n",
       "    <tr>\n",
       "      <th>2</th>\n",
       "      <td>本人被额外多办一张会员卡，南航会员办理流程是否需本人办理，而且我在被办理会员卡为郭忠能的时间...</td>\n",
       "      <td>额外 多办 一张 会员卡 南航 会员 办理 流程 需 办理 办理 会员卡 郭忠能 时间段 乘...</td>\n",
       "    </tr>\n",
       "    <tr>\n",
       "      <th>3</th>\n",
       "      <td>打不開。半個小時依然打不開。浪費時間</td>\n",
       "      <td>打不開 半個 小時 依然 打不開 浪費 時間</td>\n",
       "    </tr>\n",
       "    <tr>\n",
       "      <th>4</th>\n",
       "      <td>n/a</td>\n",
       "      <td>n a</td>\n",
       "    </tr>\n",
       "  </tbody>\n",
       "</table>\n",
       "</div>"
      ],
      "text/plain": [
       "                                             reviews  \\\n",
       "0                                              查不到航班   \n",
       "1                                       我要取消在线选座的登机牌   \n",
       "2  本人被额外多办一张会员卡，南航会员办理流程是否需本人办理，而且我在被办理会员卡为郭忠能的时间...   \n",
       "3                                 打不開。半個小時依然打不開。浪費時間   \n",
       "4                                                n/a   \n",
       "\n",
       "                                       review_tokens  \n",
       "0                                             查不到 航班  \n",
       "1                                    我要 取消 在线 选座 登机牌  \n",
       "2  额外 多办 一张 会员卡 南航 会员 办理 流程 需 办理 办理 会员卡 郭忠能 时间段 乘...  \n",
       "3                             打不開 半個 小時 依然 打不開 浪費 時間  \n",
       "4                                                n a  "
      ]
     },
     "execution_count": 14,
     "metadata": {},
     "output_type": "execute_result"
    }
   ],
   "source": [
    "# format unlabeled into a df\n",
    "data = {}\n",
    "data['reviews'] = sampled_unlabeled_reviews\n",
    "data['review_tokens'] = sents_tok_lst\n",
    "unlabeled_df = pd.DataFrame(data)\n",
    "unlabeled_df.head()\n",
    "\n",
    "# output to csv file\n",
    "unlabeled_df.to_csv('../res/unlabeled_review_5000.csv', index = False)"
   ]
  },
  {
   "cell_type": "code",
   "execution_count": null,
   "metadata": {},
   "outputs": [],
   "source": []
  }
 ],
 "metadata": {
  "kernelspec": {
   "display_name": "Python 3",
   "language": "python",
   "name": "python3"
  },
  "language_info": {
   "codemirror_mode": {
    "name": "ipython",
    "version": 3
   },
   "file_extension": ".py",
   "mimetype": "text/x-python",
   "name": "python",
   "nbconvert_exporter": "python",
   "pygments_lexer": "ipython3",
   "version": "3.6.7"
  }
 },
 "nbformat": 4,
 "nbformat_minor": 2
}
