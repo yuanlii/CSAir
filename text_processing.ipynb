{
 "cells": [
  {
   "cell_type": "code",
   "execution_count": 1,
   "metadata": {},
   "outputs": [],
   "source": [
    "import pandas as pd"
   ]
  },
  {
   "cell_type": "markdown",
   "metadata": {},
   "source": [
    "<h4> Import data:"
   ]
  },
  {
   "cell_type": "code",
   "execution_count": 5,
   "metadata": {},
   "outputs": [
    {
     "data": {
      "text/html": [
       "<div>\n",
       "<style scoped>\n",
       "    .dataframe tbody tr th:only-of-type {\n",
       "        vertical-align: middle;\n",
       "    }\n",
       "\n",
       "    .dataframe tbody tr th {\n",
       "        vertical-align: top;\n",
       "    }\n",
       "\n",
       "    .dataframe thead th {\n",
       "        text-align: right;\n",
       "    }\n",
       "</style>\n",
       "<table border=\"1\" class=\"dataframe\">\n",
       "  <thead>\n",
       "    <tr style=\"text-align: right;\">\n",
       "      <th></th>\n",
       "      <th>reviews</th>\n",
       "    </tr>\n",
       "  </thead>\n",
       "  <tbody>\n",
       "    <tr>\n",
       "      <th>0</th>\n",
       "      <td>机场升级，服务降级。今天到T2找了半天中转休息室，走到三楼服务员说我的计分不够，只能提供金银...</td>\n",
       "    </tr>\n",
       "    <tr>\n",
       "      <th>1</th>\n",
       "      <td>今天来广州T2中转，服务员说现在不提供中转休息。我6个多小时。严重抗议！我们的权益被南航剥夺</td>\n",
       "    </tr>\n",
       "    <tr>\n",
       "      <th>2</th>\n",
       "      <td>页面字体可以稍微大一些。比如中转部分眼神儿不好，根本看不清楚。还有各项功能，也可以稍微大一些...</td>\n",
       "    </tr>\n",
       "    <tr>\n",
       "      <th>3</th>\n",
       "      <td>我今天乘坐南航从上海到旧金山的飞机CZ3544，需要在武汉中转。票号7821127333。上...</td>\n",
       "    </tr>\n",
       "    <tr>\n",
       "      <th>4</th>\n",
       "      <td>我从始至终选乘南方航空的飞机无论国内行程国外行程 无论票价高低 但是在累积里程的时候我发现 ...</td>\n",
       "    </tr>\n",
       "  </tbody>\n",
       "</table>\n",
       "</div>"
      ],
      "text/plain": [
       "                                             reviews\n",
       "0  机场升级，服务降级。今天到T2找了半天中转休息室，走到三楼服务员说我的计分不够，只能提供金银...\n",
       "1     今天来广州T2中转，服务员说现在不提供中转休息。我6个多小时。严重抗议！我们的权益被南航剥夺\n",
       "2  页面字体可以稍微大一些。比如中转部分眼神儿不好，根本看不清楚。还有各项功能，也可以稍微大一些...\n",
       "3  我今天乘坐南航从上海到旧金山的飞机CZ3544，需要在武汉中转。票号7821127333。上...\n",
       "4  我从始至终选乘南方航空的飞机无论国内行程国外行程 无论票价高低 但是在累积里程的时候我发现 ..."
      ]
     },
     "execution_count": 5,
     "metadata": {},
     "output_type": "execute_result"
    }
   ],
   "source": [
    "zz = pd.read_csv('CSV_files/中转.csv',header = None)\n",
    "zz = zz.rename(columns = {0:'reviews'})\n",
    "zz.head()"
   ]
  },
  {
   "cell_type": "markdown",
   "metadata": {},
   "source": [
    "<h4> 分词："
   ]
  },
  {
   "cell_type": "code",
   "execution_count": 10,
   "metadata": {},
   "outputs": [],
   "source": [
    "review_0 = zz.reviews.iloc[0]"
   ]
  },
  {
   "cell_type": "code",
   "execution_count": 11,
   "metadata": {},
   "outputs": [
    {
     "name": "stderr",
     "output_type": "stream",
     "text": [
      "Building prefix dict from the default dictionary ...\n",
      "Dumping model to file cache /var/folders/_d/b3chzbkx5vgg1wtjm942qj4m0000gn/T/jieba.cache\n",
      "Loading model cost 1.125 seconds.\n",
      "Prefix dict has been built succesfully.\n"
     ]
    },
    {
     "name": "stdout",
     "output_type": "stream",
     "text": [
      "Default Mode: 机场/ 升级/ ，/ 服务/ 降级/ 。/ 今天/ 到/ T2/ 找/ 了/ 半天/ 中转/ 休息室/ ，/ 走到/ 三楼/ 服务员/ 说/ 我/ 的/ 计分/ 不够/ ，/ 只能/ 提供/ 金银/ 卡/ 会员/ 休息/ 。/ 然后/ 到/ 中转/ 服务/ 询问/ ，/ 回答/ 我/ 南航/ 转/ 到/ 丅/ 2/ 后/ 暂时/ 没有/ 这个/ 服务/ 。/ 想/ 问/ 一下/ 你们/ 可以/ 随便/ 取消/ 这项/ 服务/ 吗/ ？/ 是不是/ 机场/ 再/ 升级/ 一次/ ，/ 下次/ 就/ 取消/ 所有/ 的/ 座位/ 。\n"
     ]
    }
   ],
   "source": [
    "import jieba\n",
    "import jieba.posseg as pseg\n",
    "import jieba.analyse\n",
    "\n",
    "seg_list = jieba.cut(review_0, cut_all=False)\n",
    "print(\"Default Mode: \" + \"/ \".join(seg_list))  # 精确模式"
   ]
  },
  {
   "cell_type": "code",
   "execution_count": 12,
   "metadata": {},
   "outputs": [
    {
     "data": {
      "text/plain": [
       "[('机场', 2.014140778422857),\n",
       " ('计分', 1.5508793163285712),\n",
       " ('降级', 1.3671349016699998),\n",
       " ('服务员', 1.2728921521714285),\n",
       " ('座位', 1.1338711869085716),\n",
       " ('会员', 1.0640898139342858)]"
      ]
     },
     "execution_count": 12,
     "metadata": {},
     "output_type": "execute_result"
    }
   ],
   "source": [
    "# 关键词提取\n",
    "keywords_0 = jieba.analyse.extract_tags(review_0, topK=20, withWeight=True, allowPOS=('n','nr','ns'))\n",
    "keywords_0"
   ]
  },
  {
   "cell_type": "code",
   "execution_count": 32,
   "metadata": {},
   "outputs": [
    {
     "name": "stdout",
     "output_type": "stream",
     "text": [
      "﻿ 机场 升级 服务 降级 T2 找 半天 中转 休息室 走到 三楼 服务员 说 计分 只能 提供 金银 卡 会员 休息 中转 服务 询问 回答 南航 转 丅 暂时 服务 想 问 随便 取消 这项 服务 机场 升级 下次 取消 座位 \n",
      "广州 T2 中转 服务员 说 提供 中转 休息 小时 抗议 权益 南航 剥夺 \n",
      "页面 字体 稍微 中转 眼神儿 不好 看不清楚 各项 功能 稍微 字体 至少 选择 大字体 年纪 眼睛 花 看不见 \n",
      "乘坐 南航 上海 旧金山 飞机 CZ3544 武汉 中转 票号 7821127333 上海 柜台 服务 人员 说 发行 李到 目的地 武汉 提 行李 时 发现 全新 行李箱 摔坏 找 不到 南航 服务 人员 帮 办理 中转 住宿 机场 行李 寄存处 关闭 客服 武汉 中转 柜台 电话 两个 电话 没人接 听 说 电话 关机 行李 很难 拖 摔坏 行李箱 走动 晚班 飞机 晚班 服务 \n",
      "从始至终 选乘 南方 航空 飞机 国内 行程 国外 行程   票价   累积 里程 发现   行程 大部分 墨尔本 广州 中转   里程 100% 累积   每次 携程 订机票   并不知道 仓位 累积 里程   经济舱 仓位 之分   不合理   飞行 距离 万公里   希望 回复   南方 航空 失望   同期 航班 航空公司 价格 便宜   里程 百分百 累积 \n",
      "乘坐 11 月 19 日 21 20 济南 广州 CZ3708 航班 中转 广州 乘坐 次日 11 月 20 日 CZ8315 航班 到达 越南 河内 内排 机场 票号 7843117208881 行李 济南 到达 越南 河内 到达 河内 机场 行李 提取 处后 发现 行李箱 损坏 河内 机场 未找到 南航 值班 处 特 申请 贵司 赔付 行李箱 一件 \n",
      "\n",
      "相关 行李箱 损坏 照片 视频 保留 上传 望贵司 答复 \n",
      "\n",
      "谢谢 \n",
      "白云 办理 中转 住宿 柜台 服务态度 真的 一句 话 不愿 讲 全程 两句话 选 一家 酒店 kfc 班车 等待 久 \n",
      "太差 太差 太差 南航 真差 无锡 买 通程票 张家界 长沙 中转 座 南航 CZ3164 正规 航空公司 无锡 机场 行程 答复 出发 机场 长沙 答复 打要 找 订票 平台 邮寄 增加 20 快递费 正规 公司 不坑 爹 公司 \n",
      "两段 南航 中转 济南 乌鲁木齐 航班 延误 五小时 到达 领取 完 行李 凌晨 四点 后半段 八点 航班 间隔时间 短去 酒店 休息 尴尬 机场 临时 休息区 处于 关闭 状态   奔波 整夜 妥善 安排 \n",
      "我用 明珠 会员号 预定 中转 住宿 时 显示 票面 信息 查不到 绑定 证件 号 官 网定 机票 帮 改 \n",
      "你好 旅客 APP 查询 票价 网页 显示 混乱 如图 中 显示 查询 济南 广州 布里斯班 往返 票价 时 回程 提示 南航 航班 布里斯班 广州 济南 中转 地方 旅客 APP 显示 混乱 价格 营业部 查 便宜 请 知悉 忘 改进 \n",
      "南方 航空 会员 每次 出门 便捷 价格便宜 中转 提供 住宿 购票 信息 中 提示 意味着 提前 增加 麻烦 费用 被动 受 窝囊气 说 提供 中转 住宿 事先 提示 顾客 明明白白 消费 顾客 埋 黑洞 \n",
      "客票 7842373852315 包头 飞往 福州 张利 护照 E12501322 时间 11 月 15 日 郑州 中转 请 给予 提供 住宿 谢谢 \n",
      "11 月 17 日 乘坐 佛罗伦萨 巴黎 转机 回 广州 提前 南航 app 成功 预订 座位 佛罗伦萨 预订 座位 牌 巴黎 机场 登机 时 地服 人员 告知 我选 31G 付费 付费 改 位子 强行 改到 34H 这是 情况 提前 选座 提示 我选 座位 付费 买 走 提前 选座 保障 太 失望 \n",
      "乘坐 南航 航班 悉尼 深圳 转机 杭州   抵达 杭州 机场   发现 直挂 28 寸 行李箱 底部 砸 出个 洞 机场 行李 破损 登记   贵航 客服 给出 答复 赔付 200   赔付 标准 不合理 核定 一等 一周 后续 跟进 无奈 只能 打电话 投诉 当天 下午 一位 工号 100020 客服 代表 回复 原 赔付 标准 更改 维修 回复 客人 自行 找 维修点 维修 \n",
      "转机 航班 知晓 行李 情况 行李 直达 托运 改进 \n",
      "航班信息 延误 东航 app 发消息 通知 不用 机场 苦 在家 飞机 准确 起飞时间 \n",
      "杭州 机场 贵宾室 提前 通知 登机口 远 变 几个 贵宾室 休息 登机 时 旅客 登机 \n",
      "天气 原因 延误 两点 航班 安排 起飞 一点 航班 起飞 一点 早 延误 航班 出发 做 调整 硬要 两三点 航班 起飞 晚 \n",
      "明知 台风 航班 要廷误 卖票 告诉 选择 交通工具 误事 明知 卖 带有 欺骗 成份 强烈要求 道歉 事情 \n",
      "飞机 延误 长时间 咋办 \n",
      "航班 天气 原因 延误 理解 凌晨 30 叫醒 拉 机场 说 00 起飞 机场 说 00 起飞 推迟 30 贵司 内部 沟通 协调 有大 \n",
      "延误 小时 \n",
      "小时 起飞 \n",
      "延误 理由 关键 这班 航班 飞 飞 同一个 目的地 告诉 流量 控制 控制 太 不合理 \n",
      "延误 早点 通知 修改 航班 下午 16 点到 机场 延误 早点 通知 修改 18 点 航班 延误 晚上 23 点 年轻人 倒 无所谓 年纪 一点 老人 很累 懂不懂 \n",
      "晚点 \n",
      "整整 赣州 延续 两个 小时 直飞 三个 小时 路上 两个 小时 做 高铁 \n",
      "航线 航班 少量 延误 南航 飞 哈尔滨 航班 飞 航班 延误 感受 糟糕 \n",
      "航线 航班 少量 延误 南航 飞 哈尔滨 航班 飞 航班 延误 感受 糟糕 \n",
      "延误 小时 最差 体验 \n",
      "理由 延误 小时 说法 天气 原因 \n",
      "理由 延误 小时 说法 天气 原因 \n",
      "盘旋 长时间 理由 延误 \n",
      "飞机 延误 七个 半小时 安排 住宿 \n",
      "越 垃圾 每次 飞机 温州 飞 深圳 延误 延误 小时 准时 时间段 晚上 点后 起飞 延误 12 点 起飞 深圳 回 温州 早上 航班 安排 飞行 时间表 垃圾 \n",
      "延误 时间 一拖再拖 飞机 目的地 酒店 后续 飞机 时间 赶上 前台 服务员 解释 说 酒店 后续 飞机 个人行为 理解 \n",
      "延误 这么久 提前 通知 后续 国际航班 赶不上 \n",
      "延误 原因 广州 天气 原因 忽悠 忽悠 干脆 别整 明明 航班 延误 导致 六点 航班 晚点 三点 半比 晚 起飞 十足 差评 \n",
      "南航 延误 导致 我下 一趟 航班 赶不上 南航 不负责任 \n",
      "等待时间 检查 飞机 起飞 说 飞机故障 两个 小时 修 小时 解决方案 乘客 时间 钱 \n",
      "延误 超级 久   问 \n",
      "航班   CZ3686   备降 青岛 取消 青岛 住宿 还花 100 块钱 延误 取消 航班 航空公司 赔偿 情况 旅客 掏钱 住宿 不太 \n",
      "飛機 延誤 早點 通知 困 飛機 餓 渴 提供 一包 乾巴巴 餅乾 熱 茶水 沒 沒 空姐 解釋 延誤 那麼 久 應該 補充 提供 飛機餐 放 我們 會 登機口 舒服 點 \n",
      "短程 航班 飞机 餐饮 单一 提供 一包 饼干 登机 通知 飞机 延误 一个多 钟 小孩 饥饿 哭闹 飞机 飞机 餐饮 预备 后勤保障 应对 情况 保障 措施 总体 行程 体验 较差 \n",
      "航班 延误 特别 长时间 明天 上班 说 晚点 几点 特别 生气 \n",
      "别老是 延误 \n",
      "延误 几个 小时 \n",
      "明明 延误 显示 \n",
      "延误 小时 机场 服务 人员 态度恶劣 不回 安抚 旅客 \n",
      "延误 小时 起飞时间 不出 登机 时间 新 飞机 体验 坐飞机 坐 出汗 明珠 经济舱 特别 热 厕所 穿过 经济舱 温度 解释 热 体验 太差 \n",
      "航班 延误 小时 写 军事 活动 忽悠 延误 延误 说法 实在 气 明明 同事 飞 广州 点 飞机 推后 半个 小时 起飞 这班 航班 延迟 小时 麻烦 说法 一点 服务态度 差评 差评 \n",
      "延误 安排 机场 工作人员 说 柜台 问 说 安排 住 安排 住 态度 特别 差 两个 一间 收费 同意 陌生人 住在一起 付钱 陌生人 住在一起 同意 丢 东西 航空公司 承担 全程 工作人员 出面 解释 我要 维权 投诉 315 \n",
      "  延误 三个 小时 \n",
      "航班 永远 晚点   准时   时间 安排 晚点   一大早 机场 等待     永远 旅客 等待   航班 等待 旅客   旅客 迟到 关 舱门   飞机 迟到   旅客     理解     这趟 航班 准点 率低 惊人   安排 时间   乘坐 航班   绕行 \n",
      "延误   状态 活动 入口 \n",
      "投诉 取消 航班 主动 客户 改期 导致 坐 飞机 耽误 后果 \n",
      "延误 超两 小时 水 食物 提供 语 \n",
      "十六年 飞机 ✈ ️   南航 快快 换       每次 延误       故障 \n",
      "迟迟 值机 延误 至少 理由 空等 \n",
      "航班 无故 延误   天气   前序 航班 到达   航线 航班 \n",
      "南航 真的 准时 我花 8000 买 机票 时间 延误 这么久 \n",
      "航班 延误 率太高 无法忍受 \n",
      "天气 导致 延误 我查 航路 城市 天气 发现 天气 不好 找 理由 \n",
      "航班 延误 太 厉害 时间 改成 22 点 流量 控制 为啥 控制 航班 \n",
      "飞机 延误 解释 干 毯子 理由 拒绝 分配 毯子 优先 乘客 座位 调整 倾斜 程度 解决方案 \n",
      "飞机 延误 解释 干 毯子 理由 拒绝 分配 毯子 优先 乘客 座位 调整 倾斜 程度 解决方案 \n",
      "南航 官方 APP 订票 时 预选 座位 收到 确认 短信 短信 提示 自动 办理 登机 业务 南航 尊敬 旅客 已为 预约 自动 办理 手续 航班 起飞前 系统 自动 办理 选 座位 手续 请 留意 短信 办理 请 阅读 禁止 携带 危险品 公告   https m csair com b Amdwgds   锂电池 运输   https m csair com b Aqiwtx0 出发 当天 新 通知 再进 APP 查询 状态 选好 座位 显示 机场 柜台 办理 咨询 说 预选 座位 成功 南航 庞大 系统 乘客 功能 航班 长期 延误 准点 率 百分之二十 例外 前序 航班 早就 提前 到达 起降 两边 机场 天气 情况 宁波 机场 依旧 通知 天气 原因 延误 真的 可笑 永远都是 糊弄 乘客 怀疑 航班 本来 计划 时间 卖票 时间 迟 延误 一两个 小时 常态 样子 服务 满意 \n",
      "航班 延误 \n",
      "飞机 延误 飞机 飞 一班 不飞 乘务长 情况 无判断力 生病 通知 救护车 飞机 滑回 停机位 旅客 飞机 反复 折腾 \n",
      "당 신 들   항 공 을   몇 년   이 용 을 하 는 데   정 말   나 쁜 항 공 사 다   출 발 지 연   보 통 시 간 반 에 서   시 간 이 상   공 항 에   출 발   두 시 간 전 에 도 착   지 연 시 간   포 함 하 면   당 신 들   항 공 기   타 려 고   시 간 씩   기 다 려 야 한 다     지 연 시 간   문 자 보 내 면   다 라 고   생 각 하 는   당 신 들   정 말   나 쁜   항 공 사 다   정 말   짜 증 난 다   남 방 항 공   널 리   알 려 주 겠 다 \n",
      "飞机 误点 小时 航班 深圳 飞行 讨厌 航班 做 南航 \n",
      "飞机 延误 飞机 小时 问 空姐 起飞 推脱 乘务长 广播 解释 原因 \n",
      "延误 小时 \n",
      "南航 航班 不延误 延误 谋财害命 🙅 🏻 ‍ ♂ ️ 理解 \n",
      "延误 连点 解释 正餐 时间 提供 餐食 \n",
      "延误 提供 提示 原因 傻 七个 小时 工作人员 解释 逗 四六 不靠 好几个 解释 \n",
      "延误 时间 太 长 严重损失 协调 解决 \n",
      "机场 狗屎 柜台 工作人员 问 妈 延误 事情 强硬 回应 延误 两 小时 延误 餐 狗屎 胖女人 真心 争吵 上周五 延误 说 南航 烂 虹桥机场 烂     狗日 \n",
      "同是 飞 上海   航空公司 飞 走   说   南航 飞机   七个 小时   我会 开心     客服   说   找 柜台 值机 人员   好笑     没本事 飞   卖 机票 谢谢   承诺   坐 南航 \n",
      "十八点 知 延误 小时 误餐 二十时 通知 乘客 低血糖 太 精于 算计 \n",
      "延误 情况 到达 机场 接驳 车 情况 十分钟 开车 地勤 延误 带来 影响 第一次 接驳 车上 情况 开车 情况   满意 \n",
      "航班 延误 飞机 呆 四个 小时 通报 航班 情况 \n",
      "飞机 延误 赔偿 补偿 呼和浩特 坐 几个 小时 解释 \n",
      "延误 小时 登机 飞机 95535 热线 客服 态度 差 客服 工号 9694 \n",
      "航班 延误 安排 住宿 经济舱 旅客 安排 车 走 头等舱 半天 车 不来 请问 头等舱 服务 \n",
      "满意 天气 原因 延误 昆明 飞 沈阳 明知 当天 飞行 昆明 告知 昆明 飞 重庆 告知 飞行 提前 告知 退票 只能 硬住 重庆 \n",
      "起飞 情况 凌晨 点到 机场 候机 珠海 机场 起降 小孩 酒店 休息 行尸走肉 般 登机口 等待 \n",
      "这是 最烂 旅行 广州 地勤 垃圾 垃圾 20 航班 延误 20 登机口 10 点多 安排 住宿 折腾 酒店 12 点多 凌晨 点 折腾 机场 好不容易 飞 沈阳 远 机位 不到 车 飞机 半天 南航 地勤 服务 \n",
      "双流 机场 航班 起飞 降落 影响 航班 无限 延误 说 天气 原因 天气 航班 真的 服 差评 \n",
      "航班 延误 两个 小时 \n",
      "无故 延迟 航班 说 航空 管制 机场 优先 南航 航班 检讨 检讨 \n",
      "月 12 日 cz6109 延误 小时 天气 原因 取消 理解 后续 真是太 随意 飞机 负责人 解释 稳定 情绪 旅客 围着 地服 闹 一个多 小时 阴谋论 11 点下 飞机 12 点才 安排 酒店 酒店 沈阳市 一点多 酒店 没人 组织 优先 旅客 得不到 保障 大部分 旅客 情绪 激动 点半 入住 酒店 告知 第二天 五点 发车 早 五点 叫醒 休息 三个 半小时 延误 感觉 南航 飞机 延误 取消 一点 预警 应对 方案 服务 不像 成熟 航空公司 \n",
      "航班 延误 不要紧 安排 休息 地方 \n",
      "延误 这么久 说法 \n",
      "天气 延误 借口 珠海 全天 下雨 问 工作人员 点至 点 航班 误点 南航 想 3679 3756 两 航班 起飞 节省成本 欺骗 乘客 害 小时 错过 机场 快线 \n",
      "来回 延误 好几个 小时 糟糕 \n",
      "延误 几年 航班 延误 发生 南航 请 认真总结 \n",
      "航 飞机 点 05 分 起飞 点 55 说 天气 原因 点半 登机 \n",
      "前序 航班 北京 飞 大连 计划 55 起飞 航班 大连 飞 浦东 计划 起飞时间 55 航司 调度 安排 延误 \n",
      "航班 延误 机 滞留 过久 导致 头晕 头疼 建议 配备 药品 小型 氧气瓶 \n",
      "无端 无限 推迟 \n",
      "先是 延期 10 小时 取消 航班 任何人 负责 \n",
      "第一次 南航 延误 十四个 小时 \n",
      "明明 天气 告诉 说 天气 原因 导致 航班 延误 三个 小时 \n",
      "成都 城市 美 航空公司 条 航路 服务质量 太 差   这是 唯独 当天 成都 飞 广州 330 宽体 机型 航班 乘坐 宽体 机 首选   前往 休息室 候机 自助 值机 打印 登机牌 显示 会员 信息 工作人员 打电话 核实 半天 登陆 南航 APP 提供 个人信息   准时 登机 告知 航路 管控 原因 飞机 延误 空乘 人员 发餐   打开 小桌 板 污渍 乘客 用餐 时 散落 希望 日后 航班 公司 提升 保洁 质量   询问 工作人员 询要 湿巾 希望 用餐 前 清洁 小桌 板 工作人员 告知 餐盒 里   打开 餐盒 餐盒 一包 泡菜 面包 湿巾 一副 餐具 餐食 质量 直线 下降 一张 湿巾 污渍 擦除 看着 满是 污渍 湿巾 干净 小桌 板 发现 洗手 湿巾 提供 擦 手 \n",
      "航班 延误 小时 解释 服务态度 差 砸 国企 招牌 \n",
      "早 班机 延误 \n",
      "俩 天气 延误 还给 我门 显示 天气 \n",
      "月 20 日 湛江 飞 深圳 CZ3642 原定 25 起飞 延误 小时 天气 原因 备降 汕头 几个 小时 客人 发 点 面包 饼干 这是 廉价 航空 一点 吃 就让 客人 干 \n",
      "航班 延误 显示 天气 原因 窗口 显示 延误 补 里程 显示 买 延误 险 赔偿 飞机 延误 35 分钟 系统 自动 明珠 会员 补 里程 买 延误 险 赔偿 金额 转入 购票 账号 \n",
      "延误 起飞   落地 慢 \n",
      "航班 服务满意 餐食 比较满意 服务周到 航班 延误 机场 安排 住宿 免费 车 接车 送 安排 晚餐 早餐 \n",
      "月 21 日 CZ3215 航班 延误 太久 \n",
      "月 21 日 CZ3215 航班 延误 旅客 交代 起飞 \n",
      "昨天下午 19 点 05 分乘 CZ6786 天气 原因 推延 走飞 时间 23 点 好不容易 飞起 起飞 22 日 点 半左右 机上 二百多 赶下 飞机 说 取消 天亮 没个 领导 或主事 接排 就让 吵吵闹闹 不了了之 办事 方式 乘客 理解 希望 贵司 给予 买 误点 险 给予 赔偿 \n",
      "明明 迫降 银川 说 到达 西安 迫降 银川 南航 做 澄清 交给 地勤人员 半夜 点到 银川 早上 点 安排 通知 无视 客户 利益 \n",
      "分 次 通知 旅客 航班 延误 确切 时间 安排 延误 小时 工作人员 专业 解决不了 乘客 乘客 对骂 南航 太 失望 \n",
      "昨天 广州 到达 西宁 行李 机场 来回 80 公里 机场 行李 到达 时间 任何人 西宁 早晚 冷 一无所有 务必 行李 送到 住 酒店 我要 理赔 行李 延误 理赔 \n",
      "希望 解决 延误 \n",
      "航班 延误 建议 开通 让给 航空公司 \n",
      "航班 延误 太 誇張 \n",
      "月 22 日 21 时 30 分 航班 我于 月 22 日 19 时 30 分 机场 机场 途中 收到 通知 短信 飞机 延误 当晚 22 时 30 分 起飞 南航 APP 上订 票 自助 取票 次 告知 系统 取票 请 人工 取票 窗口 办理 E 岛 排队 取 登机牌 时 询问 自助 取票 原因 告知 系统 推迟 第二天 航班 取票 办理 登机牌 机场 次 推迟 航班 信息 未 推迟 23 日 起飞 22 日 22 时 发放 临时 食品 最终 航班 推迟 23 日 点 40 起飞 问 航空公司 航班 一次性 推迟 23 日 时 40 分 起飞 取票 CZ3215 广州 西安 \n",
      "登机 前才 通知 延误 登机 前才 通知 延误 两 小时 \n",
      "糟糕 服务 航空公司 公司 说辞 统一 航班 延误 热线 致电 咨询 晚上 点 40 航班 延误 一点多 第二天 航班 早上 八点 四十 金边 提早 三个 钟头 五点 四十 机场 酒店 整点 接送 点 出发 航空公司 原因 导致 休息 希望 改 第二天 联程 航班 第一个 客服 说 改 出发 站 改 出发 站 说 宁波 北上 广 权限 广州 改 顾客 当狗 忽悠 忽悠 提 过分 希望 好好 休息 买 机票 本来 好好 休息 忽悠 宁波 售票处 工作人员 客服 人员 说辞 导致 机场 过夜 冷 饿 \n",
      "航班 延误 赠送 里程 希望 自动 补偿 \n",
      "建议 南航 取消 航班 航班 顾客 折磨 航班 不延误 每次 延误 好几个 小时 南航 得罪 长春 机场 每次 延误 \n",
      "航班 延误 莫名其妙 地勤 用户 提供 避雨 秩序 安排 厦门 地勤 很差 航班 延误 五个 小时 说法 航空法 超过 小时 乘客 免票 补偿 \n",
      "机舱 内有 蚊子 卫生 延误 六小时 会员 观影 设备 乘务员 语音 高声 刺儿 \n",
      "目前为止 延误 三个 小时 工作人员 安排 发 餐饮 工作人员 登机口 小时 喊话 说 北京 原因 不让 起飞 22 点 53 工作人员 运 餐盒 登机口 延误 证明 发到 邮箱 原因 写 天气 原因 贵阳 北京 航线 恶略 天气 \n",
      "航班 延误 这么久 候机厅 等候 广播 通知 航班 延误 登机 时间 往后 延 一瓶 水 发 \n",
      "本次 行程 预定 起飞时间 十点 二十五分 流量 控制 起飞时间 待定 后于 十一点左右 通知 乘客 登机 十二点 四十 飞机 未 起飞 状态 曾于 十二点 时向 机组 乘务 人员 配餐 答复 十五分钟 飞机 滑行 状态 如需 配餐 拖延 预计 滑行 时间   希望 航空公司 对此 作出 答复 \n",
      "月 31 日 贵阳 飞 广州 cz6461 原本 延误 点 说 延误 点 20 刚说 广播 完 买 牛肉面 刚买 完 说 登机 导致 时间 吃 东西 损失 70 元 \n",
      "座 CZ329 买 多伦多 票 需 温哥华 转机 飞机 误点 温哥华 海关 边检 需 走一遍 进 差点 误 转机 买 南航 国外 转 机票 \n",
      "转机 时间 提供 接驳 明珠 会员 \n",
      "购买 明珠 经济舱 享受 相关 服务 弥补 措施 欺骗 消费者 明珠 经济舱 卖票 一瓶 水 南航 失望 说 换 飞机 告诉 明珠 经济舱 爱 做 做 感觉 \n",
      "App 选座 告诉 通道 飞机 发现 出口 前 一排 靠背 调 \n",
      "发短信 说 邀请 登机口 升舱 点 告诉 结束 耍 总局 投诉 \n",
      "月 20 日 乘坐 南航 CZ3255 深圳 北京 身体 原因 腰 枕 告知 商务 舱 头等舱 购买 经济舱 贵司 不为 经济舱 乘客 做 预留 仓位 区别 做 区别 满意 贵司 乘务员 何泌泽 小姐 此事 做出 诚意 歉意 解释 对此 乘客 欣慰 希望 后期 此类 事情 预案 谢谢 \n",
      "月 20 日 乘坐 南航 CZ3255 深圳 北京 身体 原因 腰 枕 告知 商务 舱 头等舱 购买 经济舱 贵司 不为 经济舱 乘客 做 预留 仓位 区别 做 区别 满意 贵司 乘务员 何泌泽 小姐 此事 做出 诚意 歉意 解释 对此 乘客 欣慰 希望 后期 此类 事情 预案 谢谢 \n",
      "w 舱降 Y 舱 补偿 换 飞机 不作 解释 \n",
      "APP 自动 提供 中转 建议 大庆 飞 库尔勒 直飞 航班 系统 自动 提供 最优 联程 方案 \n",
      "南航 多伦多 广州 巴黎 中转 往返 票价 携程网 贵 一万七千多 童共 携程网 需 两万 几百 南航 官网 票价 税 偏高 三万 七千 \n",
      "原定 12.4 北京 乌鲁木齐 中转 库尔勒 cz6931 乌鲁木齐 天气 原因 飞机 备降 库尔勒 并未 全额 退款 后半程 南方 官网 客服 告知 全额 退 后半程 app 申请 审核 南航 有没有 职业 操守 有没有 行业 工作 规范 \n",
      "南航 提供 中转 免费 酒店 满意 常年 往返 青岛 河内 之间 广州 转机 住宿 选了丽湾 酒店 房间 环境 极差 半夜 到达 更换 返回 机场 选择 酒店 南航 选择 酒店 有没有 底线 入住 酒店 差别 太 南航 选择 酒店 做 中转 住宿 酒店 有损于 南航 形象 \n"
     ]
    }
   ],
   "source": [
    "# 移除stop words \n",
    "# 直接采用open file as read 模式；区别于之前使用pandas来process.\n",
    "\n",
    "# 创建停用词list  \n",
    "def stopwordslist(filepath):  \n",
    "    stopwords = [line.strip() for line in open(filepath, 'r', encoding='utf-8').readlines()]  \n",
    "    return stopwords  \n",
    "\n",
    "# 对句子进行分词  \n",
    "def seg_sentence(sentence):  \n",
    "    sentence_seged = jieba.cut(sentence.strip())  \n",
    "    stopwords = stopwordslist('./stopwords.txt')  # 这里加载停用词的路径  \n",
    "    outstr = ''  \n",
    "    for word in sentence_seged:  \n",
    "        if word not in stopwords:  \n",
    "            if word != '\\t':  \n",
    "                outstr += word  \n",
    "                outstr += \" \"  \n",
    "    return outstr \n",
    "\n",
    "# handle tf-idf (Q: tf-idf based on single doc. rather than the whole corpus? 有意义吗？)\n",
    "def get_topN_tf_idf(content,topK=20):\n",
    "    tags = jieba.analyse.extract_tags(content, topK)\n",
    "    print(\" \".join(tags))\n",
    "    \n",
    "inputs = open('./CSV_files/中转.csv', 'r', encoding='utf-8')  \n",
    "outputs = open('./CSV_files/中转output.txt', 'w')  \n",
    "for line in inputs:  \n",
    "    line_seg = seg_sentence(line)  # 这里的返回值是字符串  \n",
    "#     line_seg = get_topN_tf_idf（line_seg,topK=20)   # 移除低频词\n",
    "    outputs.write(line_seg + '\\n')  \n",
    "outputs.close()  \n",
    "inputs.close() "
   ]
  },
  {
   "cell_type": "code",
   "execution_count": null,
   "metadata": {},
   "outputs": [],
   "source": []
  },
  {
   "cell_type": "code",
   "execution_count": 23,
   "metadata": {},
   "outputs": [],
   "source": [
    "def get_output_file(inputs_path,outputs_path):\n",
    "    '''\n",
    "    This function inputs the source data files, \n",
    "    and return the 分词 file as ouput.    \n",
    "    '''\n",
    "    \n",
    "    def stopwordslist(filepath):  \n",
    "        stopwords = [line.strip() for line in open(filepath, 'r', encoding='utf-8').readlines()]  \n",
    "        return stopwords  \n",
    "\n",
    "    # 对句子进行分词  \n",
    "    def seg_sentence(sentence):  \n",
    "        sentence_seged = jieba.cut(sentence.strip())  \n",
    "        stopwords = stopwordslist('./stopwords.txt')  # 这里加载停用词的路径  \n",
    "        outstr = ''  \n",
    "        for word in sentence_seged:  \n",
    "            if word not in stopwords:  \n",
    "                if word != '\\t':  \n",
    "                    outstr += word  \n",
    "                    outstr += \" \"  \n",
    "        return outstr \n",
    "\n",
    "    # handle tf-idf (Q: tf-idf based on single doc. rather than the whole corpus? 有意义吗？)\n",
    "    def get_topN_tf_idf(content,topK=20):\n",
    "        tags = jieba.analyse.extract_tags(content, topK)\n",
    "        print(\" \".join(tags))\n",
    "    \n",
    "    inputs = open(inputs_path, 'r', encoding='utf-8')  \n",
    "    outputs = open(outputs_path, 'w')  \n",
    "    for line in inputs:  \n",
    "        line_seg = seg_sentence(line)  # 这里的返回值是字符串  \n",
    "#         line_seg = get_topN_tf_idf（line_seg,topK=20)  # 移除低频词\n",
    "        outputs.write(line_seg + '\\n')  \n",
    "    outputs.close()  \n",
    "    inputs.close() \n",
    "\n",
    "\n",
    "categories = ['中转','出发','到达','售后','性能','机上','行程管理','计划','设计','预订']\n",
    "    \n",
    "for cat in categories:\n",
    "    input_path = './CSV_files/' + cat + '.csv'\n",
    "    output_path = './output_data/' + cat + 'output.txt'\n",
    "    get_output_file(input_path, output_path)"
   ]
  },
  {
   "cell_type": "markdown",
   "metadata": {},
   "source": [
    "<h4> TODO: 建立向量空间模型(特征工程）："
   ]
  },
  {
   "cell_type": "markdown",
   "metadata": {},
   "source": [
    "TODO: train, test split dataset"
   ]
  },
  {
   "cell_type": "markdown",
   "metadata": {},
   "source": [
    "TODO: word2vec (法1)\n",
    "TODO: doc2vec  (法2)\n",
    "TODO: LDA   (法3)"
   ]
  },
  {
   "cell_type": "code",
   "execution_count": null,
   "metadata": {},
   "outputs": [],
   "source": [
    "# TODO: data preprocessing \n",
    "'''\n",
    "combine\n",
    "'''"
   ]
  },
  {
   "cell_type": "code",
   "execution_count": null,
   "metadata": {},
   "outputs": [],
   "source": [
    "from sklearn.feature_extraction.text import CountVectorizer\n",
    "count_vect = CountVectorizer()\n",
    "X_train_counts = count_vect.fit_transform()"
   ]
  },
  {
   "cell_type": "code",
   "execution_count": null,
   "metadata": {},
   "outputs": [],
   "source": [
    "from sklearn.feature_extraction.text import TfidfTransformer\n",
    "tfidf_transformer = TfidfTransformer()\n",
    "X_train_tfidf = tfidf_transformer.fit_transform(X_train_counts)"
   ]
  },
  {
   "cell_type": "code",
   "execution_count": null,
   "metadata": {},
   "outputs": [],
   "source": []
  },
  {
   "cell_type": "code",
   "execution_count": null,
   "metadata": {},
   "outputs": [],
   "source": []
  },
  {
   "cell_type": "code",
   "execution_count": null,
   "metadata": {},
   "outputs": [],
   "source": []
  },
  {
   "cell_type": "code",
   "execution_count": null,
   "metadata": {},
   "outputs": [],
   "source": []
  },
  {
   "cell_type": "markdown",
   "metadata": {},
   "source": [
    "<h4> TODO: 使用neural network:"
   ]
  },
  {
   "cell_type": "markdown",
   "metadata": {},
   "source": [
    "使用neural network可以免去特征工程"
   ]
  },
  {
   "cell_type": "code",
   "execution_count": null,
   "metadata": {},
   "outputs": [],
   "source": [
    "# CNN (法4) -> textCNN\n",
    "# RNN (法5) -> textRNN"
   ]
  },
  {
   "cell_type": "code",
   "execution_count": null,
   "metadata": {},
   "outputs": [],
   "source": []
  }
 ],
 "metadata": {
  "kernelspec": {
   "display_name": "Python 3",
   "language": "python",
   "name": "python3"
  },
  "language_info": {
   "codemirror_mode": {
    "name": "ipython",
    "version": 3
   },
   "file_extension": ".py",
   "mimetype": "text/x-python",
   "name": "python",
   "nbconvert_exporter": "python",
   "pygments_lexer": "ipython3",
   "version": "3.6.7"
  }
 },
 "nbformat": 4,
 "nbformat_minor": 2
}
