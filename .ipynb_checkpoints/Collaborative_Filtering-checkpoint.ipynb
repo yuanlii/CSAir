{
 "cells": [
  {
   "cell_type": "markdown",
   "metadata": {},
   "source": [
    "readme:\n",
    "* applied similarity metrics for Collaborative filtering"
   ]
  },
  {
   "cell_type": "code",
   "execution_count": 1,
   "metadata": {},
   "outputs": [],
   "source": [
    "import pandas as pd\n",
    "import os\n",
    "os.chdir('/Users/liyuan/desktop/CSAir/codes')\n",
    "from sklearn.model_selection import train_test_split\n",
    "from sklearn.feature_extraction.text import CountVectorizer, TfidfTransformer\n",
    "import time\n",
    "import json\n",
    "import warnings\n",
    "warnings.simplefilter('ignore')\n",
    "\n",
    "import numpy as np\n",
    "import matplotlib.pyplot as plt\n",
    "from scipy import stats\n",
    "from sklearn.semi_supervised import label_propagation\n",
    "from sklearn.metrics import confusion_matrix, classification_report\n",
    "\n",
    "from semi_supervise import Semi_Supervise"
   ]
  },
  {
   "cell_type": "code",
   "execution_count": 2,
   "metadata": {},
   "outputs": [
    {
     "name": "stdout",
     "output_type": "stream",
     "text": [
      "there are 1550 examples in labeled dataset\n"
     ]
    },
    {
     "data": {
      "text/html": [
       "<div>\n",
       "<style scoped>\n",
       "    .dataframe tbody tr th:only-of-type {\n",
       "        vertical-align: middle;\n",
       "    }\n",
       "\n",
       "    .dataframe tbody tr th {\n",
       "        vertical-align: top;\n",
       "    }\n",
       "\n",
       "    .dataframe thead th {\n",
       "        text-align: right;\n",
       "    }\n",
       "</style>\n",
       "<table border=\"1\" class=\"dataframe\">\n",
       "  <thead>\n",
       "    <tr style=\"text-align: right;\">\n",
       "      <th></th>\n",
       "      <th>review</th>\n",
       "      <th>review_tokens</th>\n",
       "      <th>label</th>\n",
       "      <th>label_encoded</th>\n",
       "    </tr>\n",
       "  </thead>\n",
       "  <tbody>\n",
       "    <tr>\n",
       "      <th>0</th>\n",
       "      <td>生日优惠券还有领取时间限制的？！下次希望能标注一下领取时间限制</td>\n",
       "      <td>生日 优惠券 领取 时间 下次 希望 标注 领取 时间</td>\n",
       "      <td>计划</td>\n",
       "      <td>7</td>\n",
       "    </tr>\n",
       "    <tr>\n",
       "      <th>1</th>\n",
       "      <td>参加了11月1号的“11.11购50元抵用券”，至今未收到该优惠券。</td>\n",
       "      <td>参加 月 号 购 元 抵用券 未 收到 优惠券</td>\n",
       "      <td>计划</td>\n",
       "      <td>7</td>\n",
       "    </tr>\n",
       "    <tr>\n",
       "      <th>2</th>\n",
       "      <td>扑街，没有跟星巴克合作5折优惠，写上去干尼玛啊</td>\n",
       "      <td>扑街 星巴克 合作 折 优惠 写上去 干 尼玛</td>\n",
       "      <td>计划</td>\n",
       "      <td>7</td>\n",
       "    </tr>\n",
       "    <tr>\n",
       "      <th>3</th>\n",
       "      <td>请问广州飞墨尔本的航班超额行李要多少钱1kg.我收到你们发的信息是4折，但具体多少钱1kg不知道</td>\n",
       "      <td>请问 广州 飞 墨尔本 航班 超额 行李 钱 收到 发 信息 折 钱</td>\n",
       "      <td>计划</td>\n",
       "      <td>7</td>\n",
       "    </tr>\n",
       "    <tr>\n",
       "      <th>4</th>\n",
       "      <td>請問帶一個20吋行李箱加電腦後背包是否需加行李費</td>\n",
       "      <td>請 問帶 一個 吋 行李箱 加電腦 後 背包 需加 行李 費</td>\n",
       "      <td>计划</td>\n",
       "      <td>7</td>\n",
       "    </tr>\n",
       "  </tbody>\n",
       "</table>\n",
       "</div>"
      ],
      "text/plain": [
       "                                             review  \\\n",
       "0                   生日优惠券还有领取时间限制的？！下次希望能标注一下领取时间限制   \n",
       "1                参加了11月1号的“11.11购50元抵用券”，至今未收到该优惠券。   \n",
       "2                           扑街，没有跟星巴克合作5折优惠，写上去干尼玛啊   \n",
       "3  请问广州飞墨尔本的航班超额行李要多少钱1kg.我收到你们发的信息是4折，但具体多少钱1kg不知道   \n",
       "4                          請問帶一個20吋行李箱加電腦後背包是否需加行李費   \n",
       "\n",
       "                        review_tokens label  label_encoded  \n",
       "0         生日 优惠券 领取 时间 下次 希望 标注 领取 时间    计划              7  \n",
       "1             参加 月 号 购 元 抵用券 未 收到 优惠券    计划              7  \n",
       "2             扑街 星巴克 合作 折 优惠 写上去 干 尼玛    计划              7  \n",
       "3  请问 广州 飞 墨尔本 航班 超额 行李 钱 收到 发 信息 折 钱    计划              7  \n",
       "4      請 問帶 一個 吋 行李箱 加電腦 後 背包 需加 行李 費    计划              7  "
      ]
     },
     "execution_count": 2,
     "metadata": {},
     "output_type": "execute_result"
    }
   ],
   "source": [
    "ss = Semi_Supervise()\n",
    "# load labeled data\n",
    "labeled_data = ss.load_labeled_data('../res/labeled_data_with_without_tk.csv')\n",
    "labeled_data.head()"
   ]
  },
  {
   "cell_type": "code",
   "execution_count": 4,
   "metadata": {},
   "outputs": [
    {
     "data": {
      "text/html": [
       "<div>\n",
       "<style scoped>\n",
       "    .dataframe tbody tr th:only-of-type {\n",
       "        vertical-align: middle;\n",
       "    }\n",
       "\n",
       "    .dataframe tbody tr th {\n",
       "        vertical-align: top;\n",
       "    }\n",
       "\n",
       "    .dataframe thead th {\n",
       "        text-align: right;\n",
       "    }\n",
       "</style>\n",
       "<table border=\"1\" class=\"dataframe\">\n",
       "  <thead>\n",
       "    <tr style=\"text-align: right;\">\n",
       "      <th></th>\n",
       "      <th>review</th>\n",
       "      <th>review_tokens</th>\n",
       "      <th>label</th>\n",
       "      <th>label_encoded</th>\n",
       "    </tr>\n",
       "  </thead>\n",
       "  <tbody>\n",
       "    <tr>\n",
       "      <th>0</th>\n",
       "      <td>NaN</td>\n",
       "      <td>想 积分换 购 机票</td>\n",
       "      <td>N/A</td>\n",
       "      <td>NaN</td>\n",
       "    </tr>\n",
       "    <tr>\n",
       "      <th>1</th>\n",
       "      <td>机场值机，电子登机牌不能登录？？？</td>\n",
       "      <td>机场 值机 电子 登机牌 登录</td>\n",
       "      <td>出发</td>\n",
       "      <td>1.0</td>\n",
       "    </tr>\n",
       "    <tr>\n",
       "      <th>2</th>\n",
       "      <td>NaN</td>\n",
       "      <td>国际航班 选座 操作</td>\n",
       "      <td>N/A</td>\n",
       "      <td>NaN</td>\n",
       "    </tr>\n",
       "    <tr>\n",
       "      <th>3</th>\n",
       "      <td>订机票，查询航班首选南方航空，暑假赶紧带孩子出去旅游，释放心情！</td>\n",
       "      <td>订机票 查询 航班 首选 南方 航空 暑假 赶紧 孩子 旅游 释放 心情</td>\n",
       "      <td>预订</td>\n",
       "      <td>9.0</td>\n",
       "    </tr>\n",
       "    <tr>\n",
       "      <th>4</th>\n",
       "      <td>NaN</td>\n",
       "      <td>订 南航 官网 机票 电子客票 号 南航 官网 验真</td>\n",
       "      <td>N/A</td>\n",
       "      <td>NaN</td>\n",
       "    </tr>\n",
       "  </tbody>\n",
       "</table>\n",
       "</div>"
      ],
      "text/plain": [
       "                             review                         review_tokens  \\\n",
       "0                               NaN                            想 积分换 购 机票   \n",
       "1                 机场值机，电子登机牌不能登录？？？                       机场 值机 电子 登机牌 登录   \n",
       "2                               NaN                            国际航班 选座 操作   \n",
       "3  订机票，查询航班首选南方航空，暑假赶紧带孩子出去旅游，释放心情！  订机票 查询 航班 首选 南方 航空 暑假 赶紧 孩子 旅游 释放 心情   \n",
       "4                               NaN            订 南航 官网 机票 电子客票 号 南航 官网 验真   \n",
       "\n",
       "  label  label_encoded  \n",
       "0   N/A            NaN  \n",
       "1    出发            1.0  \n",
       "2   N/A            NaN  \n",
       "3    预订            9.0  \n",
       "4   N/A            NaN  "
      ]
     },
     "execution_count": 4,
     "metadata": {},
     "output_type": "execute_result"
    }
   ],
   "source": [
    "# load unlabeled data\n",
    "unlabeled_data = ss.load_unlabeled_data_csv('../res/unlabeled_review_反馈数据5000.csv')\n",
    "# concatenate labeled and unlabeled data\n",
    "data_concat = ss.concat_data()\n",
    "data_concat.head()"
   ]
  },
  {
   "cell_type": "code",
   "execution_count": null,
   "metadata": {},
   "outputs": [],
   "source": [
    "# TODO: build word embedding matrix\n"
   ]
  }
 ],
 "metadata": {
  "kernelspec": {
   "display_name": "Python 3",
   "language": "python",
   "name": "python3"
  },
  "language_info": {
   "codemirror_mode": {
    "name": "ipython",
    "version": 3
   },
   "file_extension": ".py",
   "mimetype": "text/x-python",
   "name": "python",
   "nbconvert_exporter": "python",
   "pygments_lexer": "ipython3",
   "version": "3.6.7"
  }
 },
 "nbformat": 4,
 "nbformat_minor": 2
}
